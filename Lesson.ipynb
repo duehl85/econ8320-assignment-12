{
  "cells": [
    {
      "cell_type": "markdown",
      "metadata": {
        "id": "YnioI2QcONzU"
      },
      "source": [
        "# Natural Language Processing\n",
        "\n",
        "\n",
        "## Defining Natural Language Processing\n",
        "\n",
        "As we continue further into our content this semester, you have probably noticed that each tool takes us to a new level of being able to conduct analysis with less code. As we progress, we move toward what are called \"higher level\" programming tools. Python itself is a high-level programming language, meaning that it is written in a way that is easier for humans to read than computers, with lots of translation happening behind the scenes.\n",
        "\n",
        "Tools like `pandas` remove a lot of the manual work from data processing. `numpy` and `scipy` handle much of the mathematical and statistical work that we want to do with our data. Natural Language Processing (NLP) is a tool similar to regex, but allowing us to take our text analytics to entirely new levels.\n",
        "\n",
        "Where regex allows us to look for text-based patterns in our words or string content, we want to go further. We want to look for **meaning**-based content. How do I find content that reflects anger? What words are most common in those contexts? What about when the content reflects joy? Sadness? Regex is not enough in these cases, and so we build to an even more powerful tool.\n",
        "\n",
        "NLP is a broad set of tools designed in order to enable users to work with text in ways that a human might work with text. When we work with text, we look for structures like sentences, and within those sentences we look for nouns to tell us who or what is the focus of the content. We look for verbs to understand what is happening. Adjectives and other descriptors help us to better understand the nuances of context. NLP models are trained to recognize these elements in text, and to be able to leverage that content to break text down and provide human users valuable information at a larger scale than would be possible if the document were simply read (slowly) by a human.\n",
        "\n",
        "| Regex | NLP |\n",
        "| --- | --- |\n",
        "| Create patterns to match in text | Identify the structure of text and use that to refine information|\n",
        "| Used to verify or find data | Used to analyze data |\n",
        "| Applies user-defined rules | Relies heavily on ML-based (or other) models |\n",
        "\n",
        "\n",
        "## What NLP can do\n",
        "\n",
        "So what can NLP do for us?\n",
        "\n",
        "### Identify parts of speech\n",
        "\n",
        "When we pass a document (really a string, but typically we provide a fairly large string to an NLP algorithm) to an NLP model, it is able to identify parts of speech (nouns, verbs, etc.). This enables us to quickly break down our text to find various kinds of keywords, and is the first step in many more complex pipelines.\n",
        "\n",
        "### Iterate over sentences\n",
        "\n",
        "NLP can identify sentences within a document. This makes for a powerful iterative tool, as we will be able to define a processing pipeline for each sentence, and then apply that pipeline to as many sentences as exist within our document, without having to write complex code to try and recognize where each sentence starts and ends (this is MUCH harder than it sounds).\n",
        "\n",
        "### Find words used to describe various nouns (or anything else!)\n",
        "\n",
        "Beyond simply identifying parts of speech, NLP models can be used to build a structural dependency tree of each sentence. This structure allows us to associate adjectives with their respective nouns, or adverbs to the verb that they modify. We can explore how various entities are described in our document based on word associations. We can even visualize the structure of the sentence using simple mapping functions.\n",
        "\n",
        "### Filter text for analysis\n",
        "\n",
        "We can use NLP to filter our text. We can look for sentences about a specific entity, or explore other ways of filtering our text in order to create a better understanding of overall patterns in the document.\n",
        "\n",
        "### Conduct sentiment analysis\n",
        "\n",
        "One of the most powerful capabilities resulting from NLP models is the ability to analyze sentiment within the text. Words have the ability to convey literal meanings, as well as the more subtle capacity to convey emotion. By looking for word combinations in our text, NLP models can provide sentiment measurements at the word, sentence, or document level. This provides the ability to sort through texts for specific sentiments to learn about the way in which emotion affects the outcomes we are examining in text. One example might be looking through descriptions for negative emotions, and being able to respond to unhappy customers by flagging negative descriptions.\n",
        "\n",
        "\n",
        "## Implementing NLP models\n",
        "\n",
        "To get started with NLP models, we need to install the right libraries (and a corpus!). The library that we will use is `spacy`, although there are multiple other options available to us. One other common NLP library is `nltk`, the Natural Language Toolkit (NLTK). In my experience NLTK is more commonly employed when someone wants to create their own model from scratch, rather than implement pre-built and optimized NLP models.\n",
        "\n",
        "In addition to a library to conduct NLP, we also rely on a **corpus**. A corpus is essentially a model of a specific language that is built to enable the actual analysis. `spacy` as a library is a general structure that can be implemented on ANY language. The corpus allows us to select a specific language, and a model of that language built on a specific set of information.\n",
        "\n",
        "When we install `spacy`, we will also download the `en_core_web_sm` corpus. This corpus is a small-sized model of the english language, and was trained on web-based data. That means that it will perform best on data drawn from websites, and is not as strong a model for other contexts (like analyzing Pride and Prejudice). That doesn't mean that we can't use in other contexts, but it does suggest that results will not be as refined or accurate."
      ]
    },
    {
      "cell_type": "markdown",
      "metadata": {
        "id": "3XpygFTvONzW"
      },
      "source": [
        "We need to get ourselves some text to analyze before we jump into the NLP world. In true form, here is another favorite old book. We will take a look at the first three chapters of Jane Eyre from [Project Gutenberg](https://www.gutenberg.org/browse/scores/top)."
      ]
    },
    {
      "cell_type": "code",
      "execution_count": null,
      "metadata": {
        "id": "a_r6E6KuONzW"
      },
      "outputs": [],
      "source": [
        "import requests\n",
        "\n",
        "jane = requests.get(\n",
        "\"https://github.com/dustywhite7/Econ8320/raw/master/AssignmentData/janeEyreCh1to3.txt\"\n",
        ").text"
      ]
    },
    {
      "cell_type": "markdown",
      "metadata": {
        "id": "CE1BEGyQONzW"
      },
      "source": [
        "You can take a look at the text to get an idea of what we will be working with. Once you're ready, we will go ahead and import the `spacy` library. The very first thing we do once we import `spacy` is to load the coprus, so that we are able to use its language models to parse our document. Let's run the code, and then discuss what is happening."
      ]
    },
    {
      "cell_type": "code",
      "execution_count": null,
      "metadata": {
        "id": "1NtxPT_FONzX"
      },
      "outputs": [],
      "source": [
        "import spacy\n",
        "\n",
        "nlp = spacy.load(\"en_core_web_sm\")\n",
        "doc = nlp(jane)"
      ]
    },
    {
      "cell_type": "markdown",
      "metadata": {
        "id": "AQ9LGHdxONzX"
      },
      "source": [
        "### The structure of a parsed document\n",
        "\n",
        "When we create an `nlp` object based on our corpus, we are creating our pipeline for working with text. Our corpus contains all of the information necessary to prepare our data for analysis. When we create our `doc` object, we are passing our document through the processing pipeline. Our new parsed document (`doc` in this case), has some important **attributes**:\n",
        "\n",
        "- `sents` - a generator function to iterate over each sentence in the document\n",
        "- `token` - each individual element of the document\n",
        "    - Elements exist at the word/punctuation level\n",
        "\n",
        "After being processed, our document has been broken down into tokens, and then (to some extent) reconstructed into sentences. Additionally, each token is mapped out in relation to the other tokens within a sentence, and is described using various attributes to inform how that token relates to the text around it."
      ]
    },
    {
      "cell_type": "code",
      "execution_count": null,
      "metadata": {
        "colab": {
          "base_uri": "https://localhost:8080/"
        },
        "id": "kGhQA4pfONzX",
        "outputId": "6e1c0343-9dc2-4167-e997-4ad7b33ba886"
      },
      "outputs": [
        {
          "output_type": "execute_result",
          "data": {
            "text/plain": [
              "['CHAPTER I   There was no possibility of taking a walk that day.',\n",
              " 'We had been wandering, indeed, in the leafless shrubbery an hour in the morning; but since dinner (Mrs. Reed, when there was no company, dined early) the cold winter wind had brought with it clouds so sombre, and a rain so penetrating, that further outdoor exercise was now out of the question.  ',\n",
              " 'I was glad of it: I never liked long walks, especially on chilly afternoons: dreadful to me was the coming home in the raw twilight, with nipped fingers and toes, and a heart saddened by the chidings of Bessie, the nurse, and humbled by the consciousness of my physical inferiority to Eliza, John, and Georgiana Reed.  ',\n",
              " 'The said Eliza, John, and Georgiana were now clustered round their mama in the drawing-room: she lay reclined on a sofa by the fireside, and with her darlings about her (for the time neither quarrelling nor crying) looked perfectly happy.',\n",
              " 'Me, she had dispensed from joining the group; saying, “She regretted to be under the necessity of keeping me at a distance; but that until she heard from Bessie, and could discover by her own observation, that I was endeavouring in good earnest to acquire a more sociable and childlike disposition, a more attractive and sprightly manner—something lighter, franker, more natural, as it were—she really must exclude me from privileges intended only for contented, happy, little children.”  ',\n",
              " '“What does Bessie say I have done?”',\n",
              " 'I asked.  ',\n",
              " '“Jane, I don’t like cavillers or questioners; besides, there is something truly forbidding in a child taking up her elders in that manner.',\n",
              " 'Be seated somewhere; and until you can speak pleasantly, remain silent.”  ',\n",
              " 'A breakfast-room adjoined the drawing-room, I slipped in there.']"
            ]
          },
          "metadata": {},
          "execution_count": 4
        }
      ],
      "source": [
        "test = [i.text.replace('\\n', ' ') for i in doc.sents][:10]\n",
        "# print first 10 sentences, replacing newlines with spaces\n",
        "\n",
        "test\n"
      ]
    },
    {
      "cell_type": "markdown",
      "metadata": {
        "id": "-XXzIt25ONzX"
      },
      "source": [
        "### Understanding tokens\n",
        "\n",
        "Recall that each word is represented as a token in the processed document. These tokens are immensely powerful. They are the word, but also more than that. Words in the English language are often modified based on context. Verbs are conjugated, nouns may be plural, among many possibilities. Each word is **tokenized** through our corpus in order to identify the underlying word.\n",
        "\n",
        "This is important, because we might want to look for each instance of a single word in our corpus. Let's say that we want to find every instance of \"eat\". If we look for \"eat\", we want to make sure that \"eats\" and \"ate\", as well as \"eating\" and other forms are all considered. This is where tokenization becomes critical. Each token contains the text value from the original document, but also the **lemmatized** word. The lemma is the base form of the word, allowing us to search for lemmas rather than the text word. This streamlines our ability to analyze text by focusing on lemmas rather than unprocessed text.\n",
        "\n",
        "Other valuable attributes are also associated with our tokens:\n",
        "- `lemma_` - the \"root word\" from which a token/word is derived\n",
        "- `pos_` - the part of speech of a token/word\n",
        "- `dep_` - the relationship of dependent tokens to the parent token (adjectives to nouns, etc.)\n",
        "- `like_email`/`like_num`/`like_url` - check if a token is like an email, number, or url (unlikely in Jane Eyre)\n",
        "\n",
        "Let's look at the first 100 non-space, non-punctuation lemmas in Jane Eyre:"
      ]
    },
    {
      "cell_type": "code",
      "execution_count": null,
      "metadata": {
        "colab": {
          "base_uri": "https://localhost:8080/"
        },
        "id": "zm-HI9RBONzX",
        "outputId": "47245ff5-397b-4f49-f63c-55a26d859936"
      },
      "outputs": [
        {
          "output_type": "stream",
          "name": "stdout",
          "text": [
            "[('chapter', 'CHAPTER'), ('I', 'I'), ('there', 'There'), ('be', 'was'), ('no', 'no'), ('possibility', 'possibility'), ('of', 'of'), ('take', 'taking'), ('a', 'a'), ('walk', 'walk'), ('that', 'that'), ('day', 'day'), ('we', 'We'), ('have', 'had'), ('be', 'been'), ('wander', 'wandering'), ('indeed', 'indeed'), ('in', 'in'), ('the', 'the'), ('leafless', 'leafless'), ('shrubbery', 'shrubbery'), ('an', 'an'), ('hour', 'hour'), ('in', 'in'), ('the', 'the'), ('morning', 'morning'), ('but', 'but'), ('since', 'since'), ('dinner', 'dinner'), ('Mrs.', 'Mrs.'), ('Reed', 'Reed'), ('when', 'when'), ('there', 'there'), ('be', 'was'), ('no', 'no'), ('company', 'company'), ('dine', 'dined'), ('early', 'early'), ('the', 'the'), ('cold', 'cold'), ('winter', 'winter'), ('wind', 'wind'), ('have', 'had'), ('bring', 'brought'), ('with', 'with'), ('it', 'it'), ('cloud', 'clouds'), ('so', 'so'), ('sombre', 'sombre'), ('and', 'and'), ('a', 'a'), ('rain', 'rain'), ('so', 'so'), ('penetrate', 'penetrating'), ('that', 'that'), ('further', 'further'), ('outdoor', 'outdoor'), ('exercise', 'exercise'), ('be', 'was'), ('now', 'now'), ('out', 'out'), ('of', 'of'), ('the', 'the'), ('question', 'question'), ('I', 'I'), ('be', 'was'), ('glad', 'glad'), ('of', 'of'), ('it', 'it'), ('I', 'I'), ('never', 'never'), ('like', 'liked'), ('long', 'long'), ('walk', 'walks'), ('especially', 'especially'), ('on', 'on'), ('chilly', 'chilly'), ('afternoon', 'afternoons'), ('dreadful', 'dreadful'), ('to', 'to'), ('I', 'me'), ('be', 'was'), ('the', 'the'), ('come', 'coming'), ('home', 'home'), ('in', 'in'), ('the', 'the'), ('raw', 'raw'), ('twilight', 'twilight'), ('with', 'with'), ('nip', 'nipped'), ('finger', 'fingers'), ('and', 'and'), ('toe', 'toes'), ('and', 'and'), ('a', 'a'), ('heart', 'heart'), ('sadden', 'saddened'), ('by', 'by'), ('the', 'the')]\n"
          ]
        }
      ],
      "source": [
        "lemmas100 = [(i.lemma_, i.text) for i in doc if (not i.is_punct) and (not i.is_space)][:100]\n",
        "\n",
        "print(lemmas100) # The lemma comes first, followed by the actual word in the text."
      ]
    },
    {
      "cell_type": "markdown",
      "metadata": {
        "id": "YhhwPkHSONzY"
      },
      "source": [
        "We can also filter words by part of speech using the `pos_` attribute of our tokens. Let's look for the first 100 nouns in the text."
      ]
    },
    {
      "cell_type": "code",
      "execution_count": null,
      "metadata": {
        "colab": {
          "base_uri": "https://localhost:8080/"
        },
        "id": "BTK9eP1tONzY",
        "outputId": "82524642-4999-462c-afc8-05275c96508d"
      },
      "outputs": [
        {
          "output_type": "stream",
          "name": "stdout",
          "text": [
            "['CHAPTER', 'possibility', 'walk', 'day', 'leafless', 'shrubbery', 'hour', 'morning', 'dinner', 'company', 'winter', 'wind', 'clouds', 'sombre', 'rain', 'exercise', 'question', 'walks', 'afternoons', 'home', 'twilight', 'fingers', 'toes', 'heart', 'chidings', 'nurse', 'consciousness', 'inferiority', 'mama', 'drawing', 'room', 'sofa', 'fireside', 'darlings', 'time', 'crying', 'group', 'necessity', 'distance', 'observation', 'earnest', 'disposition', 'manner', 'franker', 'privileges', 'children', 'Bessie', 'cavillers', 'questioners', 'child', 'elders', 'manner', 'breakfast', 'room', 'drawing', 'room', 'bookcase', 'volume', 'care', 'pictures', 'window', 'seat', 'feet', 'curtain', 'retirement', 'drapery', 'view', 'hand', 'panes', 'glass', 'day', 'intervals', 'leaves', 'book', 'aspect', 'winter', 'afternoon', 'blank', 'mist', 'scene', 'lawn', 'storm', 'beat', 'shrub', 'rain', 'blast', 'book', 'History', 'letterpress', 'pages', 'child', 'blank', 'haunts', 'sea', 'fowl', 'rocks', 'promontories', 'coast', 'isles', 'extremity']\n"
          ]
        }
      ],
      "source": [
        "nouns = [i.text for i in doc if i.pos_=='NOUN'][:100]\n",
        "\n",
        "print(nouns) # The lemma comes first, followed by the actual word in the text."
      ]
    },
    {
      "cell_type": "markdown",
      "metadata": {
        "id": "tK4WqrrlONzY"
      },
      "source": [
        "Pretty cool! If you look through that list, you'll see that there are a lot of different kinds of nouns. Two that stood out to me are \"drawing\" and \"room\"... oh wait... that's ONE NOUN that is two words! And leads us right into **noun chunks**. ;)\n",
        "\n",
        "Sometimes, you want to be able to see a \"complete\" noun, and noun chunks are the tool to use!"
      ]
    },
    {
      "cell_type": "code",
      "execution_count": null,
      "metadata": {
        "colab": {
          "base_uri": "https://localhost:8080/"
        },
        "id": "ASEoyetPONzY",
        "outputId": "a8019322-9d4a-4af0-c491-034266574c53"
      },
      "outputs": [
        {
          "output_type": "stream",
          "name": "stdout",
          "text": [
            "['I', 'no possibility', 'a walk', 'We', 'the leafless shrubbery', 'the morning', 'dinner', 'Mrs. Reed', 'no company', 'the cold winter wind', 'it', 'clouds', 'a rain', 'further outdoor exercise', 'the question', 'I', 'it', 'I', 'long walks', 'chilly afternoons', 'me', 'the coming home', 'the raw twilight', 'nipped fingers', 'toes', 'a heart', 'the chidings', 'Bessie', 'the nurse', 'the consciousness', 'my physical inferiority', 'Eliza', 'John', 'Georgiana Reed', 'The', 'Eliza', 'John', 'Georgiana', 'their mama', 'the drawing-room', 'she', 'a sofa', 'the fireside', 'her darlings', 'her', 'the time', 'crying', 'she', 'the group', 'She', 'the necessity', 'me', 'a distance', 'she', 'Bessie', 'her own observation', 'I', 'good earnest', 'a more sociable and childlike disposition', 'something', 'it', 'she', 'me', 'privileges', 'contented, happy, little children', 'Bessie', 'I', 'I', 'I', 'cavillers', 'questioners', 'something', 'a child', 'her elders', 'that manner', 'you', 'A breakfast-room', 'the drawing-room', 'I', 'It', 'a bookcase', 'I', 'myself', 'a volume', 'care', 'it', 'pictures', 'I', 'the window-seat', 'my feet', 'I', 'a Turk', 'the red moreen curtain', 'I', 'double retirement', 'Folds', 'scarlet drapery', 'my view', 'the right hand', 'the clear panes']\n"
          ]
        }
      ],
      "source": [
        "nouns = [i.text.replace('\\n', ' ') for i in doc.noun_chunks][:100] # getting rid of new lines in our noun chunks\n",
        "\n",
        "print(nouns)"
      ]
    },
    {
      "cell_type": "markdown",
      "metadata": {
        "id": "cwlig5bCONzZ"
      },
      "source": [
        "That's better. Noun chunks include all of the modifiers for a given noun, and make it easier to build a more complete understanding of the references being made. Why do we care? Because \"the red moreen curtain\" is the object, and we want to be sure to understand the implication of the full object, rather than only the word within the noun chunk that is actually a noun.\n",
        "\n",
        "If we want to understand more about the nature of the relationships between words within a sentence, we can plot a dependency tree.\n",
        "\n",
        "**NOTE: When you run the following code, be sure to click the STOP button when you're done, or no other code will run! The renderer for the dependency tree will keep running until you terminate it!**"
      ]
    },
    {
      "cell_type": "code",
      "execution_count": null,
      "metadata": {
        "colab": {
          "base_uri": "https://localhost:8080/",
          "height": 727
        },
        "id": "ZX6MCCP6ONzZ",
        "outputId": "3b54e830-23a8-48b0-bde2-f7796ec6084c"
      },
      "outputs": [
        {
          "output_type": "display_data",
          "data": {
            "text/plain": [
              "<IPython.core.display.HTML object>"
            ],
            "text/html": [
              "<span class=\"tex2jax_ignore\"><!DOCTYPE html>\n",
              "<html lang=\"en\">\n",
              "    <head>\n",
              "        <title>displaCy</title>\n",
              "    </head>\n",
              "\n",
              "    <body style=\"font-size: 16px; font-family: -apple-system, BlinkMacSystemFont, 'Segoe UI', Helvetica, Arial, sans-serif, 'Apple Color Emoji', 'Segoe UI Emoji', 'Segoe UI Symbol'; padding: 4rem 2rem; direction: ltr\">\n",
              "<figure style=\"margin-bottom: 6rem\">\n",
              "<svg xmlns=\"http://www.w3.org/2000/svg\" xmlns:xlink=\"http://www.w3.org/1999/xlink\" xml:lang=\"en\" id=\"89baac95a833415fa37fd9ebc1ae7da1-0\" class=\"displacy\" width=\"2325\" height=\"487.0\" direction=\"ltr\" style=\"max-width: none; height: 487.0px; color: #000000; background: #ffffff; font-family: Arial; direction: ltr\">\n",
              "<text class=\"displacy-token\" fill=\"currentColor\" text-anchor=\"middle\" y=\"397.0\">\n",
              "    <tspan class=\"displacy-word\" fill=\"currentColor\" x=\"50\">In</tspan>\n",
              "    <tspan class=\"displacy-tag\" dy=\"2em\" fill=\"currentColor\" x=\"50\">ADP</tspan>\n",
              "</text>\n",
              "\n",
              "<text class=\"displacy-token\" fill=\"currentColor\" text-anchor=\"middle\" y=\"397.0\">\n",
              "    <tspan class=\"displacy-word\" fill=\"currentColor\" x=\"225\">guarantee</tspan>\n",
              "    <tspan class=\"displacy-tag\" dy=\"2em\" fill=\"currentColor\" x=\"225\">NOUN</tspan>\n",
              "</text>\n",
              "\n",
              "<text class=\"displacy-token\" fill=\"currentColor\" text-anchor=\"middle\" y=\"397.0\">\n",
              "    <tspan class=\"displacy-word\" fill=\"currentColor\" x=\"400\">whereof,</tspan>\n",
              "    <tspan class=\"displacy-tag\" dy=\"2em\" fill=\"currentColor\" x=\"400\">ADV</tspan>\n",
              "</text>\n",
              "\n",
              "<text class=\"displacy-token\" fill=\"currentColor\" text-anchor=\"middle\" y=\"397.0\">\n",
              "    <tspan class=\"displacy-word\" fill=\"currentColor\" x=\"575\">I</tspan>\n",
              "    <tspan class=\"displacy-tag\" dy=\"2em\" fill=\"currentColor\" x=\"575\">PRON</tspan>\n",
              "</text>\n",
              "\n",
              "<text class=\"displacy-token\" fill=\"currentColor\" text-anchor=\"middle\" y=\"397.0\">\n",
              "    <tspan class=\"displacy-word\" fill=\"currentColor\" x=\"750\">attached</tspan>\n",
              "    <tspan class=\"displacy-tag\" dy=\"2em\" fill=\"currentColor\" x=\"750\">VERB</tspan>\n",
              "</text>\n",
              "\n",
              "<text class=\"displacy-token\" fill=\"currentColor\" text-anchor=\"middle\" y=\"397.0\">\n",
              "    <tspan class=\"displacy-word\" fill=\"currentColor\" x=\"925\">myself</tspan>\n",
              "    <tspan class=\"displacy-tag\" dy=\"2em\" fill=\"currentColor\" x=\"925\">PRON</tspan>\n",
              "</text>\n",
              "\n",
              "<text class=\"displacy-token\" fill=\"currentColor\" text-anchor=\"middle\" y=\"397.0\">\n",
              "    <tspan class=\"displacy-word\" fill=\"currentColor\" x=\"1100\">to</tspan>\n",
              "    <tspan class=\"displacy-tag\" dy=\"2em\" fill=\"currentColor\" x=\"1100\">ADP</tspan>\n",
              "</text>\n",
              "\n",
              "<text class=\"displacy-token\" fill=\"currentColor\" text-anchor=\"middle\" y=\"397.0\">\n",
              "    <tspan class=\"displacy-word\" fill=\"currentColor\" x=\"1275\">my</tspan>\n",
              "    <tspan class=\"displacy-tag\" dy=\"2em\" fill=\"currentColor\" x=\"1275\">PRON</tspan>\n",
              "</text>\n",
              "\n",
              "<text class=\"displacy-token\" fill=\"currentColor\" text-anchor=\"middle\" y=\"397.0\">\n",
              "    <tspan class=\"displacy-word\" fill=\"currentColor\" x=\"1450\">seat</tspan>\n",
              "    <tspan class=\"displacy-tag\" dy=\"2em\" fill=\"currentColor\" x=\"1450\">NOUN</tspan>\n",
              "</text>\n",
              "\n",
              "<text class=\"displacy-token\" fill=\"currentColor\" text-anchor=\"middle\" y=\"397.0\">\n",
              "    <tspan class=\"displacy-word\" fill=\"currentColor\" x=\"1625\">by</tspan>\n",
              "    <tspan class=\"displacy-tag\" dy=\"2em\" fill=\"currentColor\" x=\"1625\">ADP</tspan>\n",
              "</text>\n",
              "\n",
              "<text class=\"displacy-token\" fill=\"currentColor\" text-anchor=\"middle\" y=\"397.0\">\n",
              "    <tspan class=\"displacy-word\" fill=\"currentColor\" x=\"1800\">my</tspan>\n",
              "    <tspan class=\"displacy-tag\" dy=\"2em\" fill=\"currentColor\" x=\"1800\">PRON</tspan>\n",
              "</text>\n",
              "\n",
              "<text class=\"displacy-token\" fill=\"currentColor\" text-anchor=\"middle\" y=\"397.0\">\n",
              "    <tspan class=\"displacy-word\" fill=\"currentColor\" x=\"1975\">hands.</tspan>\n",
              "    <tspan class=\"displacy-tag\" dy=\"2em\" fill=\"currentColor\" x=\"1975\">PUNCT</tspan>\n",
              "</text>\n",
              "\n",
              "<text class=\"displacy-token\" fill=\"currentColor\" text-anchor=\"middle\" y=\"397.0\">\n",
              "    <tspan class=\"displacy-word\" fill=\"currentColor\" x=\"2150\">\n",
              "\n",
              "</tspan>\n",
              "    <tspan class=\"displacy-tag\" dy=\"2em\" fill=\"currentColor\" x=\"2150\">SPACE</tspan>\n",
              "</text>\n",
              "\n",
              "<g class=\"displacy-arrow\">\n",
              "    <path class=\"displacy-arc\" id=\"arrow-89baac95a833415fa37fd9ebc1ae7da1-0-0\" stroke-width=\"2px\" d=\"M70,352.0 C70,177.0 740.0,177.0 740.0,352.0\" fill=\"none\" stroke=\"currentColor\"/>\n",
              "    <text dy=\"1.25em\" style=\"font-size: 0.8em; letter-spacing: 1px\">\n",
              "        <textPath xlink:href=\"#arrow-89baac95a833415fa37fd9ebc1ae7da1-0-0\" class=\"displacy-label\" startOffset=\"50%\" side=\"left\" fill=\"currentColor\" text-anchor=\"middle\">prep</textPath>\n",
              "    </text>\n",
              "    <path class=\"displacy-arrowhead\" d=\"M70,354.0 L62,342.0 78,342.0\" fill=\"currentColor\"/>\n",
              "</g>\n",
              "\n",
              "<g class=\"displacy-arrow\">\n",
              "    <path class=\"displacy-arc\" id=\"arrow-89baac95a833415fa37fd9ebc1ae7da1-0-1\" stroke-width=\"2px\" d=\"M70,352.0 C70,264.5 210.0,264.5 210.0,352.0\" fill=\"none\" stroke=\"currentColor\"/>\n",
              "    <text dy=\"1.25em\" style=\"font-size: 0.8em; letter-spacing: 1px\">\n",
              "        <textPath xlink:href=\"#arrow-89baac95a833415fa37fd9ebc1ae7da1-0-1\" class=\"displacy-label\" startOffset=\"50%\" side=\"left\" fill=\"currentColor\" text-anchor=\"middle\">pobj</textPath>\n",
              "    </text>\n",
              "    <path class=\"displacy-arrowhead\" d=\"M210.0,354.0 L218.0,342.0 202.0,342.0\" fill=\"currentColor\"/>\n",
              "</g>\n",
              "\n",
              "<g class=\"displacy-arrow\">\n",
              "    <path class=\"displacy-arc\" id=\"arrow-89baac95a833415fa37fd9ebc1ae7da1-0-2\" stroke-width=\"2px\" d=\"M245,352.0 C245,264.5 385.0,264.5 385.0,352.0\" fill=\"none\" stroke=\"currentColor\"/>\n",
              "    <text dy=\"1.25em\" style=\"font-size: 0.8em; letter-spacing: 1px\">\n",
              "        <textPath xlink:href=\"#arrow-89baac95a833415fa37fd9ebc1ae7da1-0-2\" class=\"displacy-label\" startOffset=\"50%\" side=\"left\" fill=\"currentColor\" text-anchor=\"middle\">acl</textPath>\n",
              "    </text>\n",
              "    <path class=\"displacy-arrowhead\" d=\"M385.0,354.0 L393.0,342.0 377.0,342.0\" fill=\"currentColor\"/>\n",
              "</g>\n",
              "\n",
              "<g class=\"displacy-arrow\">\n",
              "    <path class=\"displacy-arc\" id=\"arrow-89baac95a833415fa37fd9ebc1ae7da1-0-3\" stroke-width=\"2px\" d=\"M595,352.0 C595,264.5 735.0,264.5 735.0,352.0\" fill=\"none\" stroke=\"currentColor\"/>\n",
              "    <text dy=\"1.25em\" style=\"font-size: 0.8em; letter-spacing: 1px\">\n",
              "        <textPath xlink:href=\"#arrow-89baac95a833415fa37fd9ebc1ae7da1-0-3\" class=\"displacy-label\" startOffset=\"50%\" side=\"left\" fill=\"currentColor\" text-anchor=\"middle\">nsubj</textPath>\n",
              "    </text>\n",
              "    <path class=\"displacy-arrowhead\" d=\"M595,354.0 L587,342.0 603,342.0\" fill=\"currentColor\"/>\n",
              "</g>\n",
              "\n",
              "<g class=\"displacy-arrow\">\n",
              "    <path class=\"displacy-arc\" id=\"arrow-89baac95a833415fa37fd9ebc1ae7da1-0-4\" stroke-width=\"2px\" d=\"M770,352.0 C770,264.5 910.0,264.5 910.0,352.0\" fill=\"none\" stroke=\"currentColor\"/>\n",
              "    <text dy=\"1.25em\" style=\"font-size: 0.8em; letter-spacing: 1px\">\n",
              "        <textPath xlink:href=\"#arrow-89baac95a833415fa37fd9ebc1ae7da1-0-4\" class=\"displacy-label\" startOffset=\"50%\" side=\"left\" fill=\"currentColor\" text-anchor=\"middle\">dobj</textPath>\n",
              "    </text>\n",
              "    <path class=\"displacy-arrowhead\" d=\"M910.0,354.0 L918.0,342.0 902.0,342.0\" fill=\"currentColor\"/>\n",
              "</g>\n",
              "\n",
              "<g class=\"displacy-arrow\">\n",
              "    <path class=\"displacy-arc\" id=\"arrow-89baac95a833415fa37fd9ebc1ae7da1-0-5\" stroke-width=\"2px\" d=\"M770,352.0 C770,177.0 1090.0,177.0 1090.0,352.0\" fill=\"none\" stroke=\"currentColor\"/>\n",
              "    <text dy=\"1.25em\" style=\"font-size: 0.8em; letter-spacing: 1px\">\n",
              "        <textPath xlink:href=\"#arrow-89baac95a833415fa37fd9ebc1ae7da1-0-5\" class=\"displacy-label\" startOffset=\"50%\" side=\"left\" fill=\"currentColor\" text-anchor=\"middle\">prep</textPath>\n",
              "    </text>\n",
              "    <path class=\"displacy-arrowhead\" d=\"M1090.0,354.0 L1098.0,342.0 1082.0,342.0\" fill=\"currentColor\"/>\n",
              "</g>\n",
              "\n",
              "<g class=\"displacy-arrow\">\n",
              "    <path class=\"displacy-arc\" id=\"arrow-89baac95a833415fa37fd9ebc1ae7da1-0-6\" stroke-width=\"2px\" d=\"M1295,352.0 C1295,264.5 1435.0,264.5 1435.0,352.0\" fill=\"none\" stroke=\"currentColor\"/>\n",
              "    <text dy=\"1.25em\" style=\"font-size: 0.8em; letter-spacing: 1px\">\n",
              "        <textPath xlink:href=\"#arrow-89baac95a833415fa37fd9ebc1ae7da1-0-6\" class=\"displacy-label\" startOffset=\"50%\" side=\"left\" fill=\"currentColor\" text-anchor=\"middle\">poss</textPath>\n",
              "    </text>\n",
              "    <path class=\"displacy-arrowhead\" d=\"M1295,354.0 L1287,342.0 1303,342.0\" fill=\"currentColor\"/>\n",
              "</g>\n",
              "\n",
              "<g class=\"displacy-arrow\">\n",
              "    <path class=\"displacy-arc\" id=\"arrow-89baac95a833415fa37fd9ebc1ae7da1-0-7\" stroke-width=\"2px\" d=\"M1120,352.0 C1120,177.0 1440.0,177.0 1440.0,352.0\" fill=\"none\" stroke=\"currentColor\"/>\n",
              "    <text dy=\"1.25em\" style=\"font-size: 0.8em; letter-spacing: 1px\">\n",
              "        <textPath xlink:href=\"#arrow-89baac95a833415fa37fd9ebc1ae7da1-0-7\" class=\"displacy-label\" startOffset=\"50%\" side=\"left\" fill=\"currentColor\" text-anchor=\"middle\">pobj</textPath>\n",
              "    </text>\n",
              "    <path class=\"displacy-arrowhead\" d=\"M1440.0,354.0 L1448.0,342.0 1432.0,342.0\" fill=\"currentColor\"/>\n",
              "</g>\n",
              "\n",
              "<g class=\"displacy-arrow\">\n",
              "    <path class=\"displacy-arc\" id=\"arrow-89baac95a833415fa37fd9ebc1ae7da1-0-8\" stroke-width=\"2px\" d=\"M770,352.0 C770,89.5 1620.0,89.5 1620.0,352.0\" fill=\"none\" stroke=\"currentColor\"/>\n",
              "    <text dy=\"1.25em\" style=\"font-size: 0.8em; letter-spacing: 1px\">\n",
              "        <textPath xlink:href=\"#arrow-89baac95a833415fa37fd9ebc1ae7da1-0-8\" class=\"displacy-label\" startOffset=\"50%\" side=\"left\" fill=\"currentColor\" text-anchor=\"middle\">prep</textPath>\n",
              "    </text>\n",
              "    <path class=\"displacy-arrowhead\" d=\"M1620.0,354.0 L1628.0,342.0 1612.0,342.0\" fill=\"currentColor\"/>\n",
              "</g>\n",
              "\n",
              "<g class=\"displacy-arrow\">\n",
              "    <path class=\"displacy-arc\" id=\"arrow-89baac95a833415fa37fd9ebc1ae7da1-0-9\" stroke-width=\"2px\" d=\"M1820,352.0 C1820,264.5 1960.0,264.5 1960.0,352.0\" fill=\"none\" stroke=\"currentColor\"/>\n",
              "    <text dy=\"1.25em\" style=\"font-size: 0.8em; letter-spacing: 1px\">\n",
              "        <textPath xlink:href=\"#arrow-89baac95a833415fa37fd9ebc1ae7da1-0-9\" class=\"displacy-label\" startOffset=\"50%\" side=\"left\" fill=\"currentColor\" text-anchor=\"middle\">poss</textPath>\n",
              "    </text>\n",
              "    <path class=\"displacy-arrowhead\" d=\"M1820,354.0 L1812,342.0 1828,342.0\" fill=\"currentColor\"/>\n",
              "</g>\n",
              "\n",
              "<g class=\"displacy-arrow\">\n",
              "    <path class=\"displacy-arc\" id=\"arrow-89baac95a833415fa37fd9ebc1ae7da1-0-10\" stroke-width=\"2px\" d=\"M770,352.0 C770,2.0 1975.0,2.0 1975.0,352.0\" fill=\"none\" stroke=\"currentColor\"/>\n",
              "    <text dy=\"1.25em\" style=\"font-size: 0.8em; letter-spacing: 1px\">\n",
              "        <textPath xlink:href=\"#arrow-89baac95a833415fa37fd9ebc1ae7da1-0-10\" class=\"displacy-label\" startOffset=\"50%\" side=\"left\" fill=\"currentColor\" text-anchor=\"middle\">punct</textPath>\n",
              "    </text>\n",
              "    <path class=\"displacy-arrowhead\" d=\"M1975.0,354.0 L1983.0,342.0 1967.0,342.0\" fill=\"currentColor\"/>\n",
              "</g>\n",
              "\n",
              "<g class=\"displacy-arrow\">\n",
              "    <path class=\"displacy-arc\" id=\"arrow-89baac95a833415fa37fd9ebc1ae7da1-0-11\" stroke-width=\"2px\" d=\"M1995,352.0 C1995,264.5 2135.0,264.5 2135.0,352.0\" fill=\"none\" stroke=\"currentColor\"/>\n",
              "    <text dy=\"1.25em\" style=\"font-size: 0.8em; letter-spacing: 1px\">\n",
              "        <textPath xlink:href=\"#arrow-89baac95a833415fa37fd9ebc1ae7da1-0-11\" class=\"displacy-label\" startOffset=\"50%\" side=\"left\" fill=\"currentColor\" text-anchor=\"middle\">dep</textPath>\n",
              "    </text>\n",
              "    <path class=\"displacy-arrowhead\" d=\"M2135.0,354.0 L2143.0,342.0 2127.0,342.0\" fill=\"currentColor\"/>\n",
              "</g>\n",
              "</svg>\n",
              "</figure>\n",
              "</body>\n",
              "</html></span>"
            ]
          },
          "metadata": {}
        },
        {
          "output_type": "stream",
          "name": "stdout",
          "text": [
            "\n",
            "Using the 'dep' visualizer\n",
            "Serving on http://0.0.0.0:5000 ...\n",
            "\n",
            "Shutting down server on port 5000.\n"
          ]
        }
      ],
      "source": [
        "from spacy import displacy\n",
        "\n",
        "sent = [i for i in doc.sents][100]\n",
        "displacy.serve(sent, style=\"dep\")"
      ]
    },
    {
      "cell_type": "markdown",
      "metadata": {
        "id": "TpESfG_8ONzZ"
      },
      "source": [
        "Using this mapping, we can see each of the clauses of the sentence, and how words within the sentence relate to one another. The mapping can help us to understand whether or not we have correctly identified parts of speech that are associated with the topics we are trying to uncover in our code.\n",
        "\n",
        "\n",
        "## Sentiment Analysis\n",
        "\n",
        "My personal favorite part of NLP, sentiment analysis is a very powerful instrument for understanding text and creating actionable items. Many firms use sentiment analysis in combination with their social media accounts to measure engagement and understand how successful marketing campaigns or other interactions are with target audiences.\n",
        "\n",
        "In order to conduct sentiment analysis using spacy, we are going to use a library called `spacytextblob`. This library includes supplemental material that expands the english corpus' ability to process our data. When utilized, `spacytextblob` is going to add sentiment analysis models to the general pipeline created through `spacy`.\n",
        "\n",
        "We can incorporate the `SpacyTextBlob` process into our pipeline like this:"
      ]
    },
    {
      "cell_type": "code",
      "execution_count": null,
      "metadata": {
        "colab": {
          "base_uri": "https://localhost:8080/",
          "height": 358
        },
        "id": "2eUjxCq6ONzZ",
        "outputId": "bffe16aa-b214-4a1e-9df1-c8e27b6df67d"
      },
      "outputs": [
        {
          "output_type": "error",
          "ename": "AttributeError",
          "evalue": "[E046] Can't retrieve unregistered extension attribute 'polarity'. Did you forget to call the `set_extension` method?",
          "traceback": [
            "\u001b[0;31m---------------------------------------------------------------------------\u001b[0m",
            "\u001b[0;31mAttributeError\u001b[0m                            Traceback (most recent call last)",
            "\u001b[0;32m<ipython-input-14-d1ae71753de0>\u001b[0m in \u001b[0;36m<cell line: 16>\u001b[0;34m()\u001b[0m\n\u001b[1;32m     15\u001b[0m \u001b[0;34m\u001b[0m\u001b[0m\n\u001b[1;32m     16\u001b[0m \u001b[0;32mfor\u001b[0m \u001b[0msentence\u001b[0m \u001b[0;32min\u001b[0m \u001b[0msents\u001b[0m\u001b[0;34m[\u001b[0m\u001b[0;34m:\u001b[0m\u001b[0;36m10\u001b[0m\u001b[0;34m]\u001b[0m\u001b[0;34m:\u001b[0m\u001b[0;34m\u001b[0m\u001b[0;34m\u001b[0m\u001b[0m\n\u001b[0;32m---> 17\u001b[0;31m     \u001b[0mprint\u001b[0m\u001b[0;34m(\u001b[0m\u001b[0;34m\"Polarity: {0:3.2f}, Subjectivity: {1:3.2f}\"\u001b[0m\u001b[0;34m.\u001b[0m\u001b[0mformat\u001b[0m\u001b[0;34m(\u001b[0m\u001b[0msentence\u001b[0m\u001b[0;34m.\u001b[0m\u001b[0m_\u001b[0m\u001b[0;34m.\u001b[0m\u001b[0mpolarity\u001b[0m\u001b[0;34m,\u001b[0m \u001b[0msentence\u001b[0m\u001b[0;34m.\u001b[0m\u001b[0m_\u001b[0m\u001b[0;34m.\u001b[0m\u001b[0msubjectivity\u001b[0m\u001b[0;34m)\u001b[0m\u001b[0;34m)\u001b[0m\u001b[0;34m\u001b[0m\u001b[0;34m\u001b[0m\u001b[0m\n\u001b[0m",
            "\u001b[0;32m/usr/local/lib/python3.10/dist-packages/spacy/tokens/underscore.py\u001b[0m in \u001b[0;36m__getattr__\u001b[0;34m(self, name)\u001b[0m\n\u001b[1;32m     46\u001b[0m     \u001b[0;32mdef\u001b[0m \u001b[0m__getattr__\u001b[0m\u001b[0;34m(\u001b[0m\u001b[0mself\u001b[0m\u001b[0;34m,\u001b[0m \u001b[0mname\u001b[0m\u001b[0;34m:\u001b[0m \u001b[0mstr\u001b[0m\u001b[0;34m)\u001b[0m \u001b[0;34m->\u001b[0m \u001b[0mAny\u001b[0m\u001b[0;34m:\u001b[0m\u001b[0;34m\u001b[0m\u001b[0;34m\u001b[0m\u001b[0m\n\u001b[1;32m     47\u001b[0m         \u001b[0;32mif\u001b[0m \u001b[0mname\u001b[0m \u001b[0;32mnot\u001b[0m \u001b[0;32min\u001b[0m \u001b[0mself\u001b[0m\u001b[0;34m.\u001b[0m\u001b[0m_extensions\u001b[0m\u001b[0;34m:\u001b[0m\u001b[0;34m\u001b[0m\u001b[0;34m\u001b[0m\u001b[0m\n\u001b[0;32m---> 48\u001b[0;31m             \u001b[0;32mraise\u001b[0m \u001b[0mAttributeError\u001b[0m\u001b[0;34m(\u001b[0m\u001b[0mErrors\u001b[0m\u001b[0;34m.\u001b[0m\u001b[0mE046\u001b[0m\u001b[0;34m.\u001b[0m\u001b[0mformat\u001b[0m\u001b[0;34m(\u001b[0m\u001b[0mname\u001b[0m\u001b[0;34m=\u001b[0m\u001b[0mname\u001b[0m\u001b[0;34m)\u001b[0m\u001b[0;34m)\u001b[0m\u001b[0;34m\u001b[0m\u001b[0;34m\u001b[0m\u001b[0m\n\u001b[0m\u001b[1;32m     49\u001b[0m         \u001b[0mdefault\u001b[0m\u001b[0;34m,\u001b[0m \u001b[0mmethod\u001b[0m\u001b[0;34m,\u001b[0m \u001b[0mgetter\u001b[0m\u001b[0;34m,\u001b[0m \u001b[0msetter\u001b[0m \u001b[0;34m=\u001b[0m \u001b[0mself\u001b[0m\u001b[0;34m.\u001b[0m\u001b[0m_extensions\u001b[0m\u001b[0;34m[\u001b[0m\u001b[0mname\u001b[0m\u001b[0;34m]\u001b[0m\u001b[0;34m\u001b[0m\u001b[0;34m\u001b[0m\u001b[0m\n\u001b[1;32m     50\u001b[0m         \u001b[0;32mif\u001b[0m \u001b[0mgetter\u001b[0m \u001b[0;32mis\u001b[0m \u001b[0;32mnot\u001b[0m \u001b[0;32mNone\u001b[0m\u001b[0;34m:\u001b[0m\u001b[0;34m\u001b[0m\u001b[0;34m\u001b[0m\u001b[0m\n",
            "\u001b[0;31mAttributeError\u001b[0m: [E046] Can't retrieve unregistered extension attribute 'polarity'. Did you forget to call the `set_extension` method?"
          ]
        }
      ],
      "source": [
        "import spacy\n",
        "from spacytextblob.spacytextblob import SpacyTextBlob\n",
        "import requests\n",
        "\n",
        "jane = requests.get(\n",
        "\"https://github.com/dustywhite7/Econ8320/raw/master/AssignmentData/janeEyreCh1to3.txt\"\n",
        ").text\n",
        "\n",
        "nlp = spacy.load('en_core_web_sm')\n",
        "nlp.add_pipe('spacytextblob')\n",
        "\n",
        "blob = nlp(jane)\n",
        "\n",
        "sents = [i for i in blob.sents]\n",
        "\n",
        "for sentence in sents[:10]:\n",
        "    print(\"Polarity: {0:3.2f}, Subjectivity: {1:3.2f}\".format(sentence._.polarity, sentence._.subjectivity))"
      ]
    },
    {
      "cell_type": "markdown",
      "metadata": {
        "id": "nYSvbyHoONzZ"
      },
      "source": [
        "We can add code to our processing pipeline using the `nlp.add_pipe()` method on our `nlp` object. In this case, we are adding the sentiment analysis information created through `SpacyTextBlob`, but this can be literally anything. We can create any kind of function that we want to implement on our code, and can add that functionality to our pipeline in the same way. More examples are available in the `spacy` [documentation](https://spacy.io/usage/processing-pipelines#pipelines).\n",
        "\n",
        "If you want to get more in-depth with NLP, I highly recommend that you explore the course material available through `spacy`'s own NLP curriculum (freely available!): https://course.spacy.io/en/"
      ]
    },
    {
      "cell_type": "markdown",
      "metadata": {
        "id": "YhikVnwAONzZ"
      },
      "source": [
        "## Solve it!\n",
        "\n",
        "In this project, you will use the text from [chapters 44 and 45](https://github.com/dustywhite7/Econ8320/raw/refs/heads/master/AssignmentData/prideAndPrejudiceChapters.txt) of *Pride and Prejudice*. Please find the following information:\n",
        "\n",
        "- The number of sentences (store as `int` in a variable named `sentences`)\n",
        "- A list of all proper nouns used across the two chapters (stored as strings in the `names` variable)\n",
        "- A DataFrame containing a count of the top 20 adjectives used in the text (stored in the `adjectives` variable)\n",
        "    - Be sure to make all words lower case ONLY!\n",
        "- A bar chart of the top 20 adjectives used in the text stored in a variable called `fig`\n",
        "\n",
        "\n",
        "Place all of your code in the cell below, labeled `#si-exercise`."
      ]
    },
    {
      "cell_type": "code",
      "source": [
        "#si-exercise\n",
        "\n",
        "#this is the final result. This cell is not edited unless progress has been completed to move results in a positive direction\n",
        "\n",
        "\n",
        "import spacy\n",
        "from spacytextblob.spacytextblob import SpacyTextBlob\n",
        "import requests\n",
        "import plotly.express as px\n",
        "\n",
        "pride = requests.get(\n",
        "\"https://raw.githubusercontent.com/dustywhite7/Econ8320/refs/heads/master/AssignmentData/prideAndPrejudiceChapters.txt\"\n",
        ").text\n",
        "\n",
        "nlp = spacy.load(\"en_core_web_sm\")\n",
        "\n",
        "# Process the text\n",
        "doc = nlp(pride)\n",
        "\n",
        "# 1. Find the number of sentences\n",
        "sentences = len(list(doc.sents))\n",
        "#print(f\"Number of sentences: {sentences}\")\n",
        "\n",
        "excluded_terms = {    \"inn\",\n",
        "    \"hauteur\",\n",
        "    \"parsonage\",\n",
        "    \"presuming\",\n",
        "    \"pray\",\n",
        "    \"militia\",\n",
        "    \"november\",\n",
        "    \"netherfield\",\n",
        "    \"longbourn\",\n",
        "    \"hunsford\",\n",
        "    \"rosings\",\n",
        "    \"hertfordshire\",\n",
        "    \"meryton\",\n",
        "    \"mr.\",\n",
        "    \"miss\",\n",
        "    \"mrs.\",\n",
        "    \"_\"}\n",
        "# Refine the list of proper nouns\n",
        "names = [\n",
        "    token.text.lower()\n",
        "    for token in doc\n",
        "    if token.pos_ == \"PROPN\" and\n",
        "       token.text.lower() not in excluded_terms and\n",
        "       len(token.text) > 1 and\n",
        "       token.text[0].isalpha()  # Excludes symbols or numbers\n",
        "]\n",
        "#print(f\"Proper nouns: {names}\")\n",
        "\n",
        "# 3. Count adjectives manually\n",
        "adjective_counts = {}\n",
        "for token in doc:\n",
        "    if token.pos_ == \"ADJ\":\n",
        "        word = token.text.lower()\n",
        "        if word in adjective_counts:\n",
        "            adjective_counts[word] += 1\n",
        "        else:\n",
        "            adjective_counts[word] = 1\n",
        "\n",
        "# Sort adjectives by count in descending order and get the top 20\n",
        "sorted_adjectives = sorted(adjective_counts.items(), key=lambda x: x[1], reverse=True)[:20]\n",
        "\n",
        "# Create a DataFrame for the top 20 adjectives\n",
        "adjectives = [{\"Adjective\": adj, \"Count\": count} for adj, count in sorted_adjectives]\n",
        "\n",
        "# 4. Create a bar chart for the top 20 adjectives using Plotly\n",
        "fig = px.bar(\n",
        "    adjectives,\n",
        "    x=\"Adjective\",\n",
        "    y=\"Count\",\n",
        "    title=\"Top 20 Adjectives in Chapters 44 and 45 of Pride and Prejudice\",\n",
        "    labels={\"Adjective\": \"Adjective\", \"Count\": \"Frequency\"},\n",
        ")\n",
        "\n",
        "# Update layout for better visualization\n",
        "fig.update_layout(\n",
        "    xaxis_title=\"Adjective\",\n",
        "    yaxis_title=\"Frequency\",\n",
        "    template=\"plotly_white\",\n",
        "    title_x=0.5\n",
        ")\n",
        "\n",
        "# Display the Plotly chart\n",
        "fig.show()\n",
        "\n",
        "\n",
        "\n"
      ],
      "metadata": {
        "colab": {
          "base_uri": "https://localhost:8080/",
          "height": 542
        },
        "id": "uExV0JaKald6",
        "outputId": "534252d9-8dd3-44d0-b0a7-f91203d3ec43"
      },
      "execution_count": 12,
      "outputs": [
        {
          "output_type": "display_data",
          "data": {
            "text/html": [
              "<html>\n",
              "<head><meta charset=\"utf-8\" /></head>\n",
              "<body>\n",
              "    <div>            <script src=\"https://cdnjs.cloudflare.com/ajax/libs/mathjax/2.7.5/MathJax.js?config=TeX-AMS-MML_SVG\"></script><script type=\"text/javascript\">if (window.MathJax && window.MathJax.Hub && window.MathJax.Hub.Config) {window.MathJax.Hub.Config({SVG: {font: \"STIX-Web\"}});}</script>                <script type=\"text/javascript\">window.PlotlyConfig = {MathJaxConfig: 'local'};</script>\n",
              "        <script charset=\"utf-8\" src=\"https://cdn.plot.ly/plotly-2.35.2.min.js\"></script>                <div id=\"450d5a46-3624-487d-ade2-18b65f8c7d07\" class=\"plotly-graph-div\" style=\"height:525px; width:100%;\"></div>            <script type=\"text/javascript\">                                    window.PLOTLYENV=window.PLOTLYENV || {};                                    if (document.getElementById(\"450d5a46-3624-487d-ade2-18b65f8c7d07\")) {                    Plotly.newPlot(                        \"450d5a46-3624-487d-ade2-18b65f8c7d07\",                        [{\"alignmentgroup\":\"True\",\"hovertemplate\":\"Adjective=%{x}\\u003cbr\\u003eFrequency=%{y}\\u003cextra\\u003e\\u003c\\u002fextra\\u003e\",\"legendgroup\":\"\",\"marker\":{\"color\":\"#636efa\",\"pattern\":{\"shape\":\"\"}},\"name\":\"\",\"offsetgroup\":\"\",\"orientation\":\"v\",\"showlegend\":false,\"textposition\":\"auto\",\"x\":[\"own\",\"much\",\"more\",\"other\",\"such\",\"little\",\"very\",\"many\",\"anxious\",\"least\",\"good\",\"whole\",\"pleased\",\"last\",\"great\",\"new\",\"few\",\"lively\",\"evident\",\"eager\"],\"xaxis\":\"x\",\"y\":[7,7,7,6,6,6,5,5,4,4,4,4,4,4,4,3,3,3,3,3],\"yaxis\":\"y\",\"type\":\"bar\"}],                        {\"template\":{\"data\":{\"barpolar\":[{\"marker\":{\"line\":{\"color\":\"white\",\"width\":0.5},\"pattern\":{\"fillmode\":\"overlay\",\"size\":10,\"solidity\":0.2}},\"type\":\"barpolar\"}],\"bar\":[{\"error_x\":{\"color\":\"#2a3f5f\"},\"error_y\":{\"color\":\"#2a3f5f\"},\"marker\":{\"line\":{\"color\":\"white\",\"width\":0.5},\"pattern\":{\"fillmode\":\"overlay\",\"size\":10,\"solidity\":0.2}},\"type\":\"bar\"}],\"carpet\":[{\"aaxis\":{\"endlinecolor\":\"#2a3f5f\",\"gridcolor\":\"#C8D4E3\",\"linecolor\":\"#C8D4E3\",\"minorgridcolor\":\"#C8D4E3\",\"startlinecolor\":\"#2a3f5f\"},\"baxis\":{\"endlinecolor\":\"#2a3f5f\",\"gridcolor\":\"#C8D4E3\",\"linecolor\":\"#C8D4E3\",\"minorgridcolor\":\"#C8D4E3\",\"startlinecolor\":\"#2a3f5f\"},\"type\":\"carpet\"}],\"choropleth\":[{\"colorbar\":{\"outlinewidth\":0,\"ticks\":\"\"},\"type\":\"choropleth\"}],\"contourcarpet\":[{\"colorbar\":{\"outlinewidth\":0,\"ticks\":\"\"},\"type\":\"contourcarpet\"}],\"contour\":[{\"colorbar\":{\"outlinewidth\":0,\"ticks\":\"\"},\"colorscale\":[[0.0,\"#0d0887\"],[0.1111111111111111,\"#46039f\"],[0.2222222222222222,\"#7201a8\"],[0.3333333333333333,\"#9c179e\"],[0.4444444444444444,\"#bd3786\"],[0.5555555555555556,\"#d8576b\"],[0.6666666666666666,\"#ed7953\"],[0.7777777777777778,\"#fb9f3a\"],[0.8888888888888888,\"#fdca26\"],[1.0,\"#f0f921\"]],\"type\":\"contour\"}],\"heatmapgl\":[{\"colorbar\":{\"outlinewidth\":0,\"ticks\":\"\"},\"colorscale\":[[0.0,\"#0d0887\"],[0.1111111111111111,\"#46039f\"],[0.2222222222222222,\"#7201a8\"],[0.3333333333333333,\"#9c179e\"],[0.4444444444444444,\"#bd3786\"],[0.5555555555555556,\"#d8576b\"],[0.6666666666666666,\"#ed7953\"],[0.7777777777777778,\"#fb9f3a\"],[0.8888888888888888,\"#fdca26\"],[1.0,\"#f0f921\"]],\"type\":\"heatmapgl\"}],\"heatmap\":[{\"colorbar\":{\"outlinewidth\":0,\"ticks\":\"\"},\"colorscale\":[[0.0,\"#0d0887\"],[0.1111111111111111,\"#46039f\"],[0.2222222222222222,\"#7201a8\"],[0.3333333333333333,\"#9c179e\"],[0.4444444444444444,\"#bd3786\"],[0.5555555555555556,\"#d8576b\"],[0.6666666666666666,\"#ed7953\"],[0.7777777777777778,\"#fb9f3a\"],[0.8888888888888888,\"#fdca26\"],[1.0,\"#f0f921\"]],\"type\":\"heatmap\"}],\"histogram2dcontour\":[{\"colorbar\":{\"outlinewidth\":0,\"ticks\":\"\"},\"colorscale\":[[0.0,\"#0d0887\"],[0.1111111111111111,\"#46039f\"],[0.2222222222222222,\"#7201a8\"],[0.3333333333333333,\"#9c179e\"],[0.4444444444444444,\"#bd3786\"],[0.5555555555555556,\"#d8576b\"],[0.6666666666666666,\"#ed7953\"],[0.7777777777777778,\"#fb9f3a\"],[0.8888888888888888,\"#fdca26\"],[1.0,\"#f0f921\"]],\"type\":\"histogram2dcontour\"}],\"histogram2d\":[{\"colorbar\":{\"outlinewidth\":0,\"ticks\":\"\"},\"colorscale\":[[0.0,\"#0d0887\"],[0.1111111111111111,\"#46039f\"],[0.2222222222222222,\"#7201a8\"],[0.3333333333333333,\"#9c179e\"],[0.4444444444444444,\"#bd3786\"],[0.5555555555555556,\"#d8576b\"],[0.6666666666666666,\"#ed7953\"],[0.7777777777777778,\"#fb9f3a\"],[0.8888888888888888,\"#fdca26\"],[1.0,\"#f0f921\"]],\"type\":\"histogram2d\"}],\"histogram\":[{\"marker\":{\"pattern\":{\"fillmode\":\"overlay\",\"size\":10,\"solidity\":0.2}},\"type\":\"histogram\"}],\"mesh3d\":[{\"colorbar\":{\"outlinewidth\":0,\"ticks\":\"\"},\"type\":\"mesh3d\"}],\"parcoords\":[{\"line\":{\"colorbar\":{\"outlinewidth\":0,\"ticks\":\"\"}},\"type\":\"parcoords\"}],\"pie\":[{\"automargin\":true,\"type\":\"pie\"}],\"scatter3d\":[{\"line\":{\"colorbar\":{\"outlinewidth\":0,\"ticks\":\"\"}},\"marker\":{\"colorbar\":{\"outlinewidth\":0,\"ticks\":\"\"}},\"type\":\"scatter3d\"}],\"scattercarpet\":[{\"marker\":{\"colorbar\":{\"outlinewidth\":0,\"ticks\":\"\"}},\"type\":\"scattercarpet\"}],\"scattergeo\":[{\"marker\":{\"colorbar\":{\"outlinewidth\":0,\"ticks\":\"\"}},\"type\":\"scattergeo\"}],\"scattergl\":[{\"marker\":{\"colorbar\":{\"outlinewidth\":0,\"ticks\":\"\"}},\"type\":\"scattergl\"}],\"scattermapbox\":[{\"marker\":{\"colorbar\":{\"outlinewidth\":0,\"ticks\":\"\"}},\"type\":\"scattermapbox\"}],\"scatterpolargl\":[{\"marker\":{\"colorbar\":{\"outlinewidth\":0,\"ticks\":\"\"}},\"type\":\"scatterpolargl\"}],\"scatterpolar\":[{\"marker\":{\"colorbar\":{\"outlinewidth\":0,\"ticks\":\"\"}},\"type\":\"scatterpolar\"}],\"scatter\":[{\"fillpattern\":{\"fillmode\":\"overlay\",\"size\":10,\"solidity\":0.2},\"type\":\"scatter\"}],\"scatterternary\":[{\"marker\":{\"colorbar\":{\"outlinewidth\":0,\"ticks\":\"\"}},\"type\":\"scatterternary\"}],\"surface\":[{\"colorbar\":{\"outlinewidth\":0,\"ticks\":\"\"},\"colorscale\":[[0.0,\"#0d0887\"],[0.1111111111111111,\"#46039f\"],[0.2222222222222222,\"#7201a8\"],[0.3333333333333333,\"#9c179e\"],[0.4444444444444444,\"#bd3786\"],[0.5555555555555556,\"#d8576b\"],[0.6666666666666666,\"#ed7953\"],[0.7777777777777778,\"#fb9f3a\"],[0.8888888888888888,\"#fdca26\"],[1.0,\"#f0f921\"]],\"type\":\"surface\"}],\"table\":[{\"cells\":{\"fill\":{\"color\":\"#EBF0F8\"},\"line\":{\"color\":\"white\"}},\"header\":{\"fill\":{\"color\":\"#C8D4E3\"},\"line\":{\"color\":\"white\"}},\"type\":\"table\"}]},\"layout\":{\"annotationdefaults\":{\"arrowcolor\":\"#2a3f5f\",\"arrowhead\":0,\"arrowwidth\":1},\"autotypenumbers\":\"strict\",\"coloraxis\":{\"colorbar\":{\"outlinewidth\":0,\"ticks\":\"\"}},\"colorscale\":{\"diverging\":[[0,\"#8e0152\"],[0.1,\"#c51b7d\"],[0.2,\"#de77ae\"],[0.3,\"#f1b6da\"],[0.4,\"#fde0ef\"],[0.5,\"#f7f7f7\"],[0.6,\"#e6f5d0\"],[0.7,\"#b8e186\"],[0.8,\"#7fbc41\"],[0.9,\"#4d9221\"],[1,\"#276419\"]],\"sequential\":[[0.0,\"#0d0887\"],[0.1111111111111111,\"#46039f\"],[0.2222222222222222,\"#7201a8\"],[0.3333333333333333,\"#9c179e\"],[0.4444444444444444,\"#bd3786\"],[0.5555555555555556,\"#d8576b\"],[0.6666666666666666,\"#ed7953\"],[0.7777777777777778,\"#fb9f3a\"],[0.8888888888888888,\"#fdca26\"],[1.0,\"#f0f921\"]],\"sequentialminus\":[[0.0,\"#0d0887\"],[0.1111111111111111,\"#46039f\"],[0.2222222222222222,\"#7201a8\"],[0.3333333333333333,\"#9c179e\"],[0.4444444444444444,\"#bd3786\"],[0.5555555555555556,\"#d8576b\"],[0.6666666666666666,\"#ed7953\"],[0.7777777777777778,\"#fb9f3a\"],[0.8888888888888888,\"#fdca26\"],[1.0,\"#f0f921\"]]},\"colorway\":[\"#636efa\",\"#EF553B\",\"#00cc96\",\"#ab63fa\",\"#FFA15A\",\"#19d3f3\",\"#FF6692\",\"#B6E880\",\"#FF97FF\",\"#FECB52\"],\"font\":{\"color\":\"#2a3f5f\"},\"geo\":{\"bgcolor\":\"white\",\"lakecolor\":\"white\",\"landcolor\":\"white\",\"showlakes\":true,\"showland\":true,\"subunitcolor\":\"#C8D4E3\"},\"hoverlabel\":{\"align\":\"left\"},\"hovermode\":\"closest\",\"mapbox\":{\"style\":\"light\"},\"paper_bgcolor\":\"white\",\"plot_bgcolor\":\"white\",\"polar\":{\"angularaxis\":{\"gridcolor\":\"#EBF0F8\",\"linecolor\":\"#EBF0F8\",\"ticks\":\"\"},\"bgcolor\":\"white\",\"radialaxis\":{\"gridcolor\":\"#EBF0F8\",\"linecolor\":\"#EBF0F8\",\"ticks\":\"\"}},\"scene\":{\"xaxis\":{\"backgroundcolor\":\"white\",\"gridcolor\":\"#DFE8F3\",\"gridwidth\":2,\"linecolor\":\"#EBF0F8\",\"showbackground\":true,\"ticks\":\"\",\"zerolinecolor\":\"#EBF0F8\"},\"yaxis\":{\"backgroundcolor\":\"white\",\"gridcolor\":\"#DFE8F3\",\"gridwidth\":2,\"linecolor\":\"#EBF0F8\",\"showbackground\":true,\"ticks\":\"\",\"zerolinecolor\":\"#EBF0F8\"},\"zaxis\":{\"backgroundcolor\":\"white\",\"gridcolor\":\"#DFE8F3\",\"gridwidth\":2,\"linecolor\":\"#EBF0F8\",\"showbackground\":true,\"ticks\":\"\",\"zerolinecolor\":\"#EBF0F8\"}},\"shapedefaults\":{\"line\":{\"color\":\"#2a3f5f\"}},\"ternary\":{\"aaxis\":{\"gridcolor\":\"#DFE8F3\",\"linecolor\":\"#A2B1C6\",\"ticks\":\"\"},\"baxis\":{\"gridcolor\":\"#DFE8F3\",\"linecolor\":\"#A2B1C6\",\"ticks\":\"\"},\"bgcolor\":\"white\",\"caxis\":{\"gridcolor\":\"#DFE8F3\",\"linecolor\":\"#A2B1C6\",\"ticks\":\"\"}},\"title\":{\"x\":0.05},\"xaxis\":{\"automargin\":true,\"gridcolor\":\"#EBF0F8\",\"linecolor\":\"#EBF0F8\",\"ticks\":\"\",\"title\":{\"standoff\":15},\"zerolinecolor\":\"#EBF0F8\",\"zerolinewidth\":2},\"yaxis\":{\"automargin\":true,\"gridcolor\":\"#EBF0F8\",\"linecolor\":\"#EBF0F8\",\"ticks\":\"\",\"title\":{\"standoff\":15},\"zerolinecolor\":\"#EBF0F8\",\"zerolinewidth\":2}}},\"xaxis\":{\"anchor\":\"y\",\"domain\":[0.0,1.0],\"title\":{\"text\":\"Adjective\"}},\"yaxis\":{\"anchor\":\"x\",\"domain\":[0.0,1.0],\"title\":{\"text\":\"Frequency\"}},\"legend\":{\"tracegroupgap\":0},\"title\":{\"text\":\"Top 20 Adjectives in Chapters 44 and 45 of Pride and Prejudice\",\"x\":0.5},\"barmode\":\"relative\"},                        {\"responsive\": true}                    ).then(function(){\n",
              "                            \n",
              "var gd = document.getElementById('450d5a46-3624-487d-ade2-18b65f8c7d07');\n",
              "var x = new MutationObserver(function (mutations, observer) {{\n",
              "        var display = window.getComputedStyle(gd).display;\n",
              "        if (!display || display === 'none') {{\n",
              "            console.log([gd, 'removed!']);\n",
              "            Plotly.purge(gd);\n",
              "            observer.disconnect();\n",
              "        }}\n",
              "}});\n",
              "\n",
              "// Listen for the removal of the full notebook cells\n",
              "var notebookContainer = gd.closest('#notebook-container');\n",
              "if (notebookContainer) {{\n",
              "    x.observe(notebookContainer, {childList: true});\n",
              "}}\n",
              "\n",
              "// Listen for the clearing of the current output cell\n",
              "var outputEl = gd.closest('.output');\n",
              "if (outputEl) {{\n",
              "    x.observe(outputEl, {childList: true});\n",
              "}}\n",
              "\n",
              "                        })                };                            </script>        </div>\n",
              "</body>\n",
              "</html>"
            ]
          },
          "metadata": {}
        }
      ]
    },
    {
      "cell_type": "code",
      "execution_count": 10,
      "metadata": {
        "nbgrader": {
          "grade": false,
          "grade_id": "cell-547fcaa92ad85918",
          "locked": false,
          "schema_version": 1,
          "solution": true
        },
        "id": "STz6WgihONzZ",
        "colab": {
          "base_uri": "https://localhost:8080/",
          "height": 542
        },
        "outputId": "da25cd77-1e07-4b13-ae47-58473e32c31b"
      },
      "outputs": [
        {
          "output_type": "display_data",
          "data": {
            "text/html": [
              "<html>\n",
              "<head><meta charset=\"utf-8\" /></head>\n",
              "<body>\n",
              "    <div>            <script src=\"https://cdnjs.cloudflare.com/ajax/libs/mathjax/2.7.5/MathJax.js?config=TeX-AMS-MML_SVG\"></script><script type=\"text/javascript\">if (window.MathJax && window.MathJax.Hub && window.MathJax.Hub.Config) {window.MathJax.Hub.Config({SVG: {font: \"STIX-Web\"}});}</script>                <script type=\"text/javascript\">window.PlotlyConfig = {MathJaxConfig: 'local'};</script>\n",
              "        <script charset=\"utf-8\" src=\"https://cdn.plot.ly/plotly-2.35.2.min.js\"></script>                <div id=\"31d5e414-23e4-4ebb-8bf4-90021eb92921\" class=\"plotly-graph-div\" style=\"height:525px; width:100%;\"></div>            <script type=\"text/javascript\">                                    window.PLOTLYENV=window.PLOTLYENV || {};                                    if (document.getElementById(\"31d5e414-23e4-4ebb-8bf4-90021eb92921\")) {                    Plotly.newPlot(                        \"31d5e414-23e4-4ebb-8bf4-90021eb92921\",                        [{\"alignmentgroup\":\"True\",\"hovertemplate\":\"Adjective=%{x}\\u003cbr\\u003eFrequency=%{y}\\u003cextra\\u003e\\u003c\\u002fextra\\u003e\",\"legendgroup\":\"\",\"marker\":{\"color\":\"#636efa\",\"pattern\":{\"shape\":\"\"}},\"name\":\"\",\"offsetgroup\":\"\",\"orientation\":\"v\",\"showlegend\":false,\"textposition\":\"auto\",\"x\":[\"own\",\"much\",\"more\",\"other\",\"such\",\"little\",\"very\",\"many\",\"anxious\",\"least\",\"good\",\"whole\",\"pleased\",\"last\",\"great\",\"new\",\"few\",\"lively\",\"evident\",\"eager\"],\"xaxis\":\"x\",\"y\":[7,7,7,6,6,6,5,5,4,4,4,4,4,4,4,3,3,3,3,3],\"yaxis\":\"y\",\"type\":\"bar\"}],                        {\"template\":{\"data\":{\"barpolar\":[{\"marker\":{\"line\":{\"color\":\"white\",\"width\":0.5},\"pattern\":{\"fillmode\":\"overlay\",\"size\":10,\"solidity\":0.2}},\"type\":\"barpolar\"}],\"bar\":[{\"error_x\":{\"color\":\"#2a3f5f\"},\"error_y\":{\"color\":\"#2a3f5f\"},\"marker\":{\"line\":{\"color\":\"white\",\"width\":0.5},\"pattern\":{\"fillmode\":\"overlay\",\"size\":10,\"solidity\":0.2}},\"type\":\"bar\"}],\"carpet\":[{\"aaxis\":{\"endlinecolor\":\"#2a3f5f\",\"gridcolor\":\"#C8D4E3\",\"linecolor\":\"#C8D4E3\",\"minorgridcolor\":\"#C8D4E3\",\"startlinecolor\":\"#2a3f5f\"},\"baxis\":{\"endlinecolor\":\"#2a3f5f\",\"gridcolor\":\"#C8D4E3\",\"linecolor\":\"#C8D4E3\",\"minorgridcolor\":\"#C8D4E3\",\"startlinecolor\":\"#2a3f5f\"},\"type\":\"carpet\"}],\"choropleth\":[{\"colorbar\":{\"outlinewidth\":0,\"ticks\":\"\"},\"type\":\"choropleth\"}],\"contourcarpet\":[{\"colorbar\":{\"outlinewidth\":0,\"ticks\":\"\"},\"type\":\"contourcarpet\"}],\"contour\":[{\"colorbar\":{\"outlinewidth\":0,\"ticks\":\"\"},\"colorscale\":[[0.0,\"#0d0887\"],[0.1111111111111111,\"#46039f\"],[0.2222222222222222,\"#7201a8\"],[0.3333333333333333,\"#9c179e\"],[0.4444444444444444,\"#bd3786\"],[0.5555555555555556,\"#d8576b\"],[0.6666666666666666,\"#ed7953\"],[0.7777777777777778,\"#fb9f3a\"],[0.8888888888888888,\"#fdca26\"],[1.0,\"#f0f921\"]],\"type\":\"contour\"}],\"heatmapgl\":[{\"colorbar\":{\"outlinewidth\":0,\"ticks\":\"\"},\"colorscale\":[[0.0,\"#0d0887\"],[0.1111111111111111,\"#46039f\"],[0.2222222222222222,\"#7201a8\"],[0.3333333333333333,\"#9c179e\"],[0.4444444444444444,\"#bd3786\"],[0.5555555555555556,\"#d8576b\"],[0.6666666666666666,\"#ed7953\"],[0.7777777777777778,\"#fb9f3a\"],[0.8888888888888888,\"#fdca26\"],[1.0,\"#f0f921\"]],\"type\":\"heatmapgl\"}],\"heatmap\":[{\"colorbar\":{\"outlinewidth\":0,\"ticks\":\"\"},\"colorscale\":[[0.0,\"#0d0887\"],[0.1111111111111111,\"#46039f\"],[0.2222222222222222,\"#7201a8\"],[0.3333333333333333,\"#9c179e\"],[0.4444444444444444,\"#bd3786\"],[0.5555555555555556,\"#d8576b\"],[0.6666666666666666,\"#ed7953\"],[0.7777777777777778,\"#fb9f3a\"],[0.8888888888888888,\"#fdca26\"],[1.0,\"#f0f921\"]],\"type\":\"heatmap\"}],\"histogram2dcontour\":[{\"colorbar\":{\"outlinewidth\":0,\"ticks\":\"\"},\"colorscale\":[[0.0,\"#0d0887\"],[0.1111111111111111,\"#46039f\"],[0.2222222222222222,\"#7201a8\"],[0.3333333333333333,\"#9c179e\"],[0.4444444444444444,\"#bd3786\"],[0.5555555555555556,\"#d8576b\"],[0.6666666666666666,\"#ed7953\"],[0.7777777777777778,\"#fb9f3a\"],[0.8888888888888888,\"#fdca26\"],[1.0,\"#f0f921\"]],\"type\":\"histogram2dcontour\"}],\"histogram2d\":[{\"colorbar\":{\"outlinewidth\":0,\"ticks\":\"\"},\"colorscale\":[[0.0,\"#0d0887\"],[0.1111111111111111,\"#46039f\"],[0.2222222222222222,\"#7201a8\"],[0.3333333333333333,\"#9c179e\"],[0.4444444444444444,\"#bd3786\"],[0.5555555555555556,\"#d8576b\"],[0.6666666666666666,\"#ed7953\"],[0.7777777777777778,\"#fb9f3a\"],[0.8888888888888888,\"#fdca26\"],[1.0,\"#f0f921\"]],\"type\":\"histogram2d\"}],\"histogram\":[{\"marker\":{\"pattern\":{\"fillmode\":\"overlay\",\"size\":10,\"solidity\":0.2}},\"type\":\"histogram\"}],\"mesh3d\":[{\"colorbar\":{\"outlinewidth\":0,\"ticks\":\"\"},\"type\":\"mesh3d\"}],\"parcoords\":[{\"line\":{\"colorbar\":{\"outlinewidth\":0,\"ticks\":\"\"}},\"type\":\"parcoords\"}],\"pie\":[{\"automargin\":true,\"type\":\"pie\"}],\"scatter3d\":[{\"line\":{\"colorbar\":{\"outlinewidth\":0,\"ticks\":\"\"}},\"marker\":{\"colorbar\":{\"outlinewidth\":0,\"ticks\":\"\"}},\"type\":\"scatter3d\"}],\"scattercarpet\":[{\"marker\":{\"colorbar\":{\"outlinewidth\":0,\"ticks\":\"\"}},\"type\":\"scattercarpet\"}],\"scattergeo\":[{\"marker\":{\"colorbar\":{\"outlinewidth\":0,\"ticks\":\"\"}},\"type\":\"scattergeo\"}],\"scattergl\":[{\"marker\":{\"colorbar\":{\"outlinewidth\":0,\"ticks\":\"\"}},\"type\":\"scattergl\"}],\"scattermapbox\":[{\"marker\":{\"colorbar\":{\"outlinewidth\":0,\"ticks\":\"\"}},\"type\":\"scattermapbox\"}],\"scatterpolargl\":[{\"marker\":{\"colorbar\":{\"outlinewidth\":0,\"ticks\":\"\"}},\"type\":\"scatterpolargl\"}],\"scatterpolar\":[{\"marker\":{\"colorbar\":{\"outlinewidth\":0,\"ticks\":\"\"}},\"type\":\"scatterpolar\"}],\"scatter\":[{\"fillpattern\":{\"fillmode\":\"overlay\",\"size\":10,\"solidity\":0.2},\"type\":\"scatter\"}],\"scatterternary\":[{\"marker\":{\"colorbar\":{\"outlinewidth\":0,\"ticks\":\"\"}},\"type\":\"scatterternary\"}],\"surface\":[{\"colorbar\":{\"outlinewidth\":0,\"ticks\":\"\"},\"colorscale\":[[0.0,\"#0d0887\"],[0.1111111111111111,\"#46039f\"],[0.2222222222222222,\"#7201a8\"],[0.3333333333333333,\"#9c179e\"],[0.4444444444444444,\"#bd3786\"],[0.5555555555555556,\"#d8576b\"],[0.6666666666666666,\"#ed7953\"],[0.7777777777777778,\"#fb9f3a\"],[0.8888888888888888,\"#fdca26\"],[1.0,\"#f0f921\"]],\"type\":\"surface\"}],\"table\":[{\"cells\":{\"fill\":{\"color\":\"#EBF0F8\"},\"line\":{\"color\":\"white\"}},\"header\":{\"fill\":{\"color\":\"#C8D4E3\"},\"line\":{\"color\":\"white\"}},\"type\":\"table\"}]},\"layout\":{\"annotationdefaults\":{\"arrowcolor\":\"#2a3f5f\",\"arrowhead\":0,\"arrowwidth\":1},\"autotypenumbers\":\"strict\",\"coloraxis\":{\"colorbar\":{\"outlinewidth\":0,\"ticks\":\"\"}},\"colorscale\":{\"diverging\":[[0,\"#8e0152\"],[0.1,\"#c51b7d\"],[0.2,\"#de77ae\"],[0.3,\"#f1b6da\"],[0.4,\"#fde0ef\"],[0.5,\"#f7f7f7\"],[0.6,\"#e6f5d0\"],[0.7,\"#b8e186\"],[0.8,\"#7fbc41\"],[0.9,\"#4d9221\"],[1,\"#276419\"]],\"sequential\":[[0.0,\"#0d0887\"],[0.1111111111111111,\"#46039f\"],[0.2222222222222222,\"#7201a8\"],[0.3333333333333333,\"#9c179e\"],[0.4444444444444444,\"#bd3786\"],[0.5555555555555556,\"#d8576b\"],[0.6666666666666666,\"#ed7953\"],[0.7777777777777778,\"#fb9f3a\"],[0.8888888888888888,\"#fdca26\"],[1.0,\"#f0f921\"]],\"sequentialminus\":[[0.0,\"#0d0887\"],[0.1111111111111111,\"#46039f\"],[0.2222222222222222,\"#7201a8\"],[0.3333333333333333,\"#9c179e\"],[0.4444444444444444,\"#bd3786\"],[0.5555555555555556,\"#d8576b\"],[0.6666666666666666,\"#ed7953\"],[0.7777777777777778,\"#fb9f3a\"],[0.8888888888888888,\"#fdca26\"],[1.0,\"#f0f921\"]]},\"colorway\":[\"#636efa\",\"#EF553B\",\"#00cc96\",\"#ab63fa\",\"#FFA15A\",\"#19d3f3\",\"#FF6692\",\"#B6E880\",\"#FF97FF\",\"#FECB52\"],\"font\":{\"color\":\"#2a3f5f\"},\"geo\":{\"bgcolor\":\"white\",\"lakecolor\":\"white\",\"landcolor\":\"white\",\"showlakes\":true,\"showland\":true,\"subunitcolor\":\"#C8D4E3\"},\"hoverlabel\":{\"align\":\"left\"},\"hovermode\":\"closest\",\"mapbox\":{\"style\":\"light\"},\"paper_bgcolor\":\"white\",\"plot_bgcolor\":\"white\",\"polar\":{\"angularaxis\":{\"gridcolor\":\"#EBF0F8\",\"linecolor\":\"#EBF0F8\",\"ticks\":\"\"},\"bgcolor\":\"white\",\"radialaxis\":{\"gridcolor\":\"#EBF0F8\",\"linecolor\":\"#EBF0F8\",\"ticks\":\"\"}},\"scene\":{\"xaxis\":{\"backgroundcolor\":\"white\",\"gridcolor\":\"#DFE8F3\",\"gridwidth\":2,\"linecolor\":\"#EBF0F8\",\"showbackground\":true,\"ticks\":\"\",\"zerolinecolor\":\"#EBF0F8\"},\"yaxis\":{\"backgroundcolor\":\"white\",\"gridcolor\":\"#DFE8F3\",\"gridwidth\":2,\"linecolor\":\"#EBF0F8\",\"showbackground\":true,\"ticks\":\"\",\"zerolinecolor\":\"#EBF0F8\"},\"zaxis\":{\"backgroundcolor\":\"white\",\"gridcolor\":\"#DFE8F3\",\"gridwidth\":2,\"linecolor\":\"#EBF0F8\",\"showbackground\":true,\"ticks\":\"\",\"zerolinecolor\":\"#EBF0F8\"}},\"shapedefaults\":{\"line\":{\"color\":\"#2a3f5f\"}},\"ternary\":{\"aaxis\":{\"gridcolor\":\"#DFE8F3\",\"linecolor\":\"#A2B1C6\",\"ticks\":\"\"},\"baxis\":{\"gridcolor\":\"#DFE8F3\",\"linecolor\":\"#A2B1C6\",\"ticks\":\"\"},\"bgcolor\":\"white\",\"caxis\":{\"gridcolor\":\"#DFE8F3\",\"linecolor\":\"#A2B1C6\",\"ticks\":\"\"}},\"title\":{\"x\":0.05},\"xaxis\":{\"automargin\":true,\"gridcolor\":\"#EBF0F8\",\"linecolor\":\"#EBF0F8\",\"ticks\":\"\",\"title\":{\"standoff\":15},\"zerolinecolor\":\"#EBF0F8\",\"zerolinewidth\":2},\"yaxis\":{\"automargin\":true,\"gridcolor\":\"#EBF0F8\",\"linecolor\":\"#EBF0F8\",\"ticks\":\"\",\"title\":{\"standoff\":15},\"zerolinecolor\":\"#EBF0F8\",\"zerolinewidth\":2}}},\"xaxis\":{\"anchor\":\"y\",\"domain\":[0.0,1.0],\"title\":{\"text\":\"Adjective\"}},\"yaxis\":{\"anchor\":\"x\",\"domain\":[0.0,1.0],\"title\":{\"text\":\"Frequency\"}},\"legend\":{\"tracegroupgap\":0},\"title\":{\"text\":\"Top 20 Adjectives in Chapters 44 and 45 of Pride and Prejudice\",\"x\":0.5},\"barmode\":\"relative\"},                        {\"responsive\": true}                    ).then(function(){\n",
              "                            \n",
              "var gd = document.getElementById('31d5e414-23e4-4ebb-8bf4-90021eb92921');\n",
              "var x = new MutationObserver(function (mutations, observer) {{\n",
              "        var display = window.getComputedStyle(gd).display;\n",
              "        if (!display || display === 'none') {{\n",
              "            console.log([gd, 'removed!']);\n",
              "            Plotly.purge(gd);\n",
              "            observer.disconnect();\n",
              "        }}\n",
              "}});\n",
              "\n",
              "// Listen for the removal of the full notebook cells\n",
              "var notebookContainer = gd.closest('#notebook-container');\n",
              "if (notebookContainer) {{\n",
              "    x.observe(notebookContainer, {childList: true});\n",
              "}}\n",
              "\n",
              "// Listen for the clearing of the current output cell\n",
              "var outputEl = gd.closest('.output');\n",
              "if (outputEl) {{\n",
              "    x.observe(outputEl, {childList: true});\n",
              "}}\n",
              "\n",
              "                        })                };                            </script>        </div>\n",
              "</body>\n",
              "</html>"
            ]
          },
          "metadata": {}
        }
      ],
      "source": [
        "\n",
        "#this cell is for testing changes. paste code into the above cell to commit changes\n",
        "\n",
        "import spacy\n",
        "from spacytextblob.spacytextblob import SpacyTextBlob\n",
        "import requests\n",
        "import plotly.express as px\n",
        "\n",
        "pride = requests.get(\n",
        "\"https://raw.githubusercontent.com/dustywhite7/Econ8320/refs/heads/master/AssignmentData/prideAndPrejudiceChapters.txt\"\n",
        ").text\n",
        "\n",
        "nlp = spacy.load(\"en_core_web_sm\")\n",
        "\n",
        "# Process the text\n",
        "doc = nlp(pride)\n",
        "\n",
        "# 1. Find the number of sentences\n",
        "sentences = len(list(doc.sents))\n",
        "#print(f\"Number of sentences: {sentences}\")\n",
        "\n",
        "excluded_terms = {    \"inn\",\n",
        "    \"hauteur\",\n",
        "    \"parsonage\",\n",
        "    \"presuming\",\n",
        "    \"pray\",\n",
        "    \"militia\",\n",
        "    \"november\",\n",
        "    \"netherfield\",\n",
        "    \"longbourn\",\n",
        "    \"hunsford\",\n",
        "    \"rosings\",\n",
        "    \"hertfordshire\",\n",
        "    \"meryton\",\n",
        "    \"mr.\",\n",
        "    \"miss\",\n",
        "    \"mrs.\",\n",
        "    \"_\"}\n",
        "# Refine the list of proper nouns\n",
        "names = [\n",
        "    token.text.lower()\n",
        "    for token in doc\n",
        "    if token.pos_ == \"PROPN\" and\n",
        "       token.text.lower() not in excluded_terms and\n",
        "       len(token.text) > 1 and\n",
        "       token.text[0].isalpha()  # Excludes symbols or numbers\n",
        "]\n",
        "#print(f\"Proper nouns: {names}\")\n",
        "\n",
        "# 3. Count adjectives manually\n",
        "adjective_counts = {}\n",
        "for token in doc:\n",
        "    if token.pos_ == \"ADJ\":\n",
        "        word = token.text.lower()\n",
        "        if word in adjective_counts:\n",
        "            adjective_counts[word] += 1\n",
        "        else:\n",
        "            adjective_counts[word] = 1\n",
        "\n",
        "# Sort adjectives by count in descending order and get the top 20\n",
        "sorted_adjectives = sorted(adjective_counts.items(), key=lambda x: x[1], reverse=True)[:20]\n",
        "\n",
        "# Create a DataFrame for the top 20 adjectives\n",
        "adjectives = [{\"Adjective\": adj, \"Count\": count} for adj, count in sorted_adjectives]\n",
        "\n",
        "# 4. Create a bar chart for the top 20 adjectives using Plotly\n",
        "fig = px.bar(\n",
        "    adjectives,\n",
        "    x=\"Adjective\",\n",
        "    y=\"Count\",\n",
        "    title=\"Top 20 Adjectives in Chapters 44 and 45 of Pride and Prejudice\",\n",
        "    labels={\"Adjective\": \"Adjective\", \"Count\": \"Frequency\"},\n",
        ")\n",
        "\n",
        "# Update layout for better visualization\n",
        "fig.update_layout(\n",
        "    xaxis_title=\"Adjective\",\n",
        "    yaxis_title=\"Frequency\",\n",
        "    template=\"plotly_white\",\n",
        "    title_x=0.5\n",
        ")\n",
        "\n",
        "# Display the Plotly chart\n",
        "fig.show()\n",
        "\n"
      ]
    },
    {
      "cell_type": "code",
      "source": [
        "names"
      ],
      "metadata": {
        "colab": {
          "base_uri": "https://localhost:8080/"
        },
        "id": "7ctMs5MfqYhr",
        "outputId": "f13dd24d-7f2d-44bb-96d5-44bf670e1b3d"
      },
      "execution_count": 11,
      "outputs": [
        {
          "output_type": "execute_result",
          "data": {
            "text/plain": [
              "['elizabeth',\n",
              " 'darcy',\n",
              " 'pemberley',\n",
              " 'lambton',\n",
              " 'elizabeth',\n",
              " 'elizabeth',\n",
              " 'darcy',\n",
              " 'elizabeth',\n",
              " 'lambton',\n",
              " 'darcy',\n",
              " 'darcy',\n",
              " 'elizabeth',\n",
              " 'elizabeth',\n",
              " 'darcy',\n",
              " 'darcy',\n",
              " 'bingley',\n",
              " 'bingley',\n",
              " 'elizabeth',\n",
              " 'gardiner',\n",
              " 'darcy',\n",
              " 'elizabeth',\n",
              " 'bingley',\n",
              " 'georgiana',\n",
              " 'darcy',\n",
              " 'bingley',\n",
              " 'darcy',\n",
              " 'jane',\n",
              " 'jane',\n",
              " 'elizabeth',\n",
              " 'darcy',\n",
              " 'darcy',\n",
              " 'gardiner',\n",
              " 'bennet',\n",
              " 'pemberley',\n",
              " 'darcy',\n",
              " 'gardiner',\n",
              " 'elizabeth',\n",
              " 'bingley',\n",
              " 'elizabeth',\n",
              " 'elizabeth',\n",
              " 'bingley',\n",
              " 'gardiner',\n",
              " 'darcy',\n",
              " 'darcy',\n",
              " 'darcy',\n",
              " 'lambton',\n",
              " 'wickham',\n",
              " 'darcy',\n",
              " 'elizabeth',\n",
              " 'pemberley',\n",
              " 'darcy',\n",
              " 'pemberley',\n",
              " 'pemberley',\n",
              " 'elizabeth',\n",
              " 'gardiner',\n",
              " 'pemberley',\n",
              " 'elizabeth',\n",
              " 'bingley',\n",
              " 'pemberley',\n",
              " 'darcy',\n",
              " 'hurst',\n",
              " 'bingley',\n",
              " 'london',\n",
              " 'georgiana',\n",
              " 'gardiner',\n",
              " 'hurst',\n",
              " 'bingley',\n",
              " 'annesley',\n",
              " 'gardiner',\n",
              " 'elizabeth',\n",
              " 'darcy',\n",
              " 'elizabeth',\n",
              " 'bingley',\n",
              " 'darcy',\n",
              " 'bingley',\n",
              " 'elizabeth',\n",
              " 'annesley',\n",
              " 'darcy',\n",
              " 'elizabeth',\n",
              " 'darcy',\n",
              " 'gardiner',\n",
              " 'georgiana',\n",
              " 'elizabeth',\n",
              " 'bingley',\n",
              " 'darcy',\n",
              " 'darcy',\n",
              " 'elizabeth',\n",
              " 'bingley',\n",
              " 'eliza',\n",
              " 'darcy',\n",
              " 'wickham',\n",
              " 'elizabeth',\n",
              " 'darcy',\n",
              " 'bingley',\n",
              " 'elizabeth',\n",
              " 'darcy',\n",
              " 'darcy',\n",
              " 'elizabeth',\n",
              " 'bingley',\n",
              " 'elizabeth',\n",
              " 'bennet',\n",
              " 'elizabeth',\n",
              " 'bingley',\n",
              " 'wickham',\n",
              " 'georgiana',\n",
              " 'elizabeth',\n",
              " 'darcy',\n",
              " 'bingley',\n",
              " 'elizabeth',\n",
              " 'georgiana',\n",
              " 'elizabeth',\n",
              " 'georgiana',\n",
              " 'darcy',\n",
              " 'bingley',\n",
              " 'eliza',\n",
              " 'bennet',\n",
              " 'darcy',\n",
              " 'louisa',\n",
              " 'darcy',\n",
              " 'bingley',\n",
              " 'darcy',\n",
              " 'elizabeth',\n",
              " 'darcy',\n",
              " 'bingley',\n",
              " 'gardiner',\n",
              " 'elizabeth',\n",
              " 'elizabeth',\n",
              " 'gardiner',\n",
              " 'gardiner']"
            ]
          },
          "metadata": {},
          "execution_count": 11
        }
      ]
    },
    {
      "cell_type": "code",
      "source": [
        "names"
      ],
      "metadata": {
        "colab": {
          "base_uri": "https://localhost:8080/"
        },
        "id": "QRc-Ru_KcsRK",
        "outputId": "ad32b4f0-ffb3-4bdc-d3db-78b511cbbc03"
      },
      "execution_count": 24,
      "outputs": [
        {
          "output_type": "execute_result",
          "data": {
            "text/plain": [
              "['elizabeth',\n",
              " 'mr.',\n",
              " 'darcy',\n",
              " 'pemberley',\n",
              " 'lambton',\n",
              " 'inn',\n",
              " 'elizabeth',\n",
              " 'elizabeth',\n",
              " 'miss',\n",
              " 'darcy',\n",
              " 'elizabeth',\n",
              " 'lambton',\n",
              " 'miss',\n",
              " 'darcy',\n",
              " 'miss',\n",
              " 'darcy',\n",
              " 'elizabeth',\n",
              " 'elizabeth',\n",
              " 'mr.',\n",
              " 'darcy',\n",
              " 'mr.',\n",
              " 'darcy',\n",
              " 'bingley',\n",
              " 'bingley',\n",
              " 'elizabeth',\n",
              " 'mr.',\n",
              " 'mrs.',\n",
              " 'gardiner',\n",
              " 'mr.',\n",
              " 'darcy',\n",
              " 'elizabeth',\n",
              " 'bingley',\n",
              " 'georgiana',\n",
              " 'darcy',\n",
              " 'bingley',\n",
              " 'miss',\n",
              " 'darcy',\n",
              " 'jane',\n",
              " 'jane',\n",
              " 'november',\n",
              " 'netherfield',\n",
              " 'elizabeth',\n",
              " 'longbourn',\n",
              " 'mr.',\n",
              " 'darcy',\n",
              " '_',\n",
              " 'hauteur',\n",
              " '_',\n",
              " 'hunsford',\n",
              " 'parsonage',\n",
              " 'netherfield',\n",
              " 'netherfield',\n",
              " 'rosings',\n",
              " 'mr.',\n",
              " 'darcy',\n",
              " 'mr.',\n",
              " 'mrs.',\n",
              " 'gardiner',\n",
              " 'miss',\n",
              " 'bennet',\n",
              " 'pemberley',\n",
              " 'miss',\n",
              " 'darcy',\n",
              " 'mrs.',\n",
              " 'gardiner',\n",
              " '_',\n",
              " '_',\n",
              " 'elizabeth',\n",
              " 'presuming',\n",
              " 'bingley',\n",
              " 'elizabeth',\n",
              " 'hertfordshire',\n",
              " 'elizabeth',\n",
              " 'bingley',\n",
              " 'mr.',\n",
              " 'mrs.',\n",
              " 'gardiner',\n",
              " 'mr.',\n",
              " 'darcy',\n",
              " 'mr.',\n",
              " 'darcy',\n",
              " 'hertfordshire',\n",
              " 'mr.',\n",
              " 'darcy',\n",
              " 'lambton',\n",
              " 'wickham',\n",
              " 'mr.',\n",
              " 'darcy',\n",
              " 'elizabeth',\n",
              " 'pemberley',\n",
              " '_',\n",
              " 'miss',\n",
              " 'darcy',\n",
              " 'pemberley',\n",
              " 'pemberley',\n",
              " 'elizabeth',\n",
              " 'mr.',\n",
              " 'gardiner',\n",
              " 'pemberley',\n",
              " 'elizabeth',\n",
              " 'miss',\n",
              " 'bingley',\n",
              " 'pemberley',\n",
              " 'miss',\n",
              " 'darcy',\n",
              " 'mrs.',\n",
              " 'hurst',\n",
              " 'miss',\n",
              " 'bingley',\n",
              " 'london',\n",
              " 'georgiana',\n",
              " 'mrs.',\n",
              " 'gardiner',\n",
              " 'mrs.',\n",
              " 'hurst',\n",
              " 'miss',\n",
              " 'bingley',\n",
              " 'mrs.',\n",
              " 'annesley',\n",
              " 'mrs.',\n",
              " 'gardiner',\n",
              " 'elizabeth',\n",
              " 'miss',\n",
              " 'darcy',\n",
              " 'elizabeth',\n",
              " 'miss',\n",
              " 'bingley',\n",
              " 'miss',\n",
              " 'darcy',\n",
              " 'miss',\n",
              " 'bingley',\n",
              " 'elizabeth',\n",
              " 'mrs.',\n",
              " 'annesley',\n",
              " 'miss',\n",
              " 'darcy',\n",
              " 'elizabeth',\n",
              " 'mr.',\n",
              " 'darcy',\n",
              " 'mr.',\n",
              " 'gardiner',\n",
              " 'georgiana',\n",
              " 'elizabeth',\n",
              " 'miss',\n",
              " 'bingley',\n",
              " 'mr.',\n",
              " 'darcy',\n",
              " 'miss',\n",
              " 'darcy',\n",
              " 'elizabeth',\n",
              " 'miss',\n",
              " 'bingley',\n",
              " 'pray',\n",
              " 'miss',\n",
              " 'eliza',\n",
              " 'militia',\n",
              " 'meryton',\n",
              " '_',\n",
              " '_',\n",
              " 'darcy',\n",
              " 'wickham',\n",
              " 'elizabeth',\n",
              " 'darcy',\n",
              " 'miss',\n",
              " 'bingley',\n",
              " 'elizabeth',\n",
              " 'darcy',\n",
              " 'miss',\n",
              " 'darcy',\n",
              " 'elizabeth',\n",
              " 'bingley',\n",
              " 'elizabeth',\n",
              " 'miss',\n",
              " 'bennet',\n",
              " 'elizabeth',\n",
              " 'miss',\n",
              " 'bingley',\n",
              " 'wickham',\n",
              " 'georgiana',\n",
              " 'elizabeth',\n",
              " 'mr.',\n",
              " 'darcy',\n",
              " 'miss',\n",
              " 'bingley',\n",
              " 'elizabeth',\n",
              " 'georgiana',\n",
              " 'elizabeth',\n",
              " 'georgiana',\n",
              " 'darcy',\n",
              " 'miss',\n",
              " 'bingley',\n",
              " 'miss',\n",
              " 'eliza',\n",
              " 'bennet',\n",
              " 'mr.',\n",
              " 'darcy',\n",
              " 'louisa',\n",
              " 'mr.',\n",
              " 'darcy',\n",
              " 'miss',\n",
              " 'bingley',\n",
              " 'darcy',\n",
              " 'elizabeth',\n",
              " 'hertfordshire',\n",
              " 'netherfield',\n",
              " 'darcy',\n",
              " 'miss',\n",
              " 'bingley',\n",
              " 'mrs.',\n",
              " 'gardiner',\n",
              " 'elizabeth',\n",
              " 'elizabeth',\n",
              " 'mrs.',\n",
              " 'gardiner',\n",
              " 'mrs.',\n",
              " 'gardiner']"
            ]
          },
          "metadata": {},
          "execution_count": 24
        }
      ]
    },
    {
      "cell_type": "code",
      "source": [
        "type(sentences)"
      ],
      "metadata": {
        "colab": {
          "base_uri": "https://localhost:8080/"
        },
        "id": "phADbAQvZDcl",
        "outputId": "c4930b85-13cf-4243-f8f6-39acf5e19b0c"
      },
      "execution_count": 21,
      "outputs": [
        {
          "output_type": "execute_result",
          "data": {
            "text/plain": [
              "int"
            ]
          },
          "metadata": {},
          "execution_count": 21
        }
      ]
    },
    {
      "cell_type": "code",
      "source": [
        "import spacy\n",
        "from collections import Counter\n",
        "import pandas as pd\n",
        "import plotly.express as px\n",
        "\n",
        "# Load the spaCy English model\n",
        "nlp = spacy.load(\"en_core_web_sm\")\n",
        "\n",
        "# Process the text\n",
        "doc = nlp(pride)\n",
        "\n",
        "# 1. Find the number of sentences\n",
        "sentences = len(list(doc.sents))\n",
        "print(f\"Number of sentences: {sentences}\")\n",
        "\n",
        "# 2. Find all proper nouns\n",
        "names = [token.text.lower() for token in doc if token.pos_ == \"PROPN\"]\n",
        "print(f\"Proper nouns: {names}\")\n",
        "\n",
        "# 3. Create a DataFrame with the top 20 adjectives and their counts\n",
        "adjectives = [token.text.lower() for token in doc if token.pos_ == \"ADJ\"]\n",
        "adjective_counts = Counter(adjectives).most_common(20)\n",
        "adjectives_df = pd.DataFrame(adjective_counts, columns=[\"Adjective\", \"Count\"])\n",
        "print(adjectives_df)\n",
        "\n",
        "# 4. Create a bar chart for the top 20 adjectives\n",
        "fig = px.bar(\n",
        "    adjectives_df,\n",
        "    x=\"Adjective\",\n",
        "    y=\"Count\",\n",
        "    title=\"Top 20 Adjectives in Chapters 44 and 45 of Pride and Prejudice\",\n",
        "    labels={\"Adjective\": \"Adjective\", \"Count\": \"Frequency\"},\n",
        ")\n",
        "\n",
        "\n",
        "# Show the chart\n",
        "fig.show()\n"
      ],
      "metadata": {
        "id": "3H17dZnZVMyl",
        "colab": {
          "base_uri": "https://localhost:8080/",
          "height": 973
        },
        "outputId": "90d16683-2900-4aad-e03c-2558e9d77350"
      },
      "execution_count": 18,
      "outputs": [
        {
          "output_type": "stream",
          "name": "stdout",
          "text": [
            "Number of sentences: 125\n",
            "Proper nouns: ['elizabeth', 'mr.', 'darcy', 'pemberley', 'lambton', 'inn', 'elizabeth', 'elizabeth', 'miss', 'darcy', 'elizabeth', 'lambton', 'miss', 'darcy', 'miss', 'darcy', 'elizabeth', 'elizabeth', 'mr.', 'darcy', 'mr.', 'darcy', 'bingley', 'bingley', 'elizabeth', 'mr.', 'mrs.', 'gardiner', 'mr.', 'darcy', 'elizabeth', 'bingley', 'georgiana', 'darcy', 'bingley', 'miss', 'darcy', 'jane', 'jane', 'november', 'netherfield', 'elizabeth', 'longbourn', 'mr.', 'darcy', '_', 'hauteur', '_', 'hunsford', 'parsonage', 'netherfield', 'netherfield', 'rosings', 'mr.', 'darcy', 'mr.', 'mrs.', 'gardiner', 'miss', 'bennet', 'pemberley', 'miss', 'darcy', 'mrs.', 'gardiner', '_', '_', 'elizabeth', 'presuming', 'bingley', 'elizabeth', 'hertfordshire', 'elizabeth', 'bingley', 'mr.', 'mrs.', 'gardiner', 'mr.', 'darcy', 'mr.', 'darcy', 'hertfordshire', 'mr.', 'darcy', 'lambton', 'wickham', 'mr.', 'darcy', 'elizabeth', 'pemberley', '_', 'miss', 'darcy', 'pemberley', 'pemberley', 'elizabeth', 'mr.', 'gardiner', 'pemberley', 'elizabeth', 'miss', 'bingley', 'pemberley', 'miss', 'darcy', 'mrs.', 'hurst', 'miss', 'bingley', 'london', 'georgiana', 'mrs.', 'gardiner', 'mrs.', 'hurst', 'miss', 'bingley', 'mrs.', 'annesley', 'mrs.', 'gardiner', 'elizabeth', 'miss', 'darcy', 'elizabeth', 'miss', 'bingley', 'miss', 'darcy', 'miss', 'bingley', 'elizabeth', 'mrs.', 'annesley', 'miss', 'darcy', 'elizabeth', 'mr.', 'darcy', 'mr.', 'gardiner', 'georgiana', 'elizabeth', 'miss', 'bingley', 'mr.', 'darcy', 'miss', 'darcy', 'elizabeth', 'miss', 'bingley', 'pray', 'miss', 'eliza', 'militia', 'meryton', '_', '_', 'darcy', 'wickham', 'elizabeth', 'darcy', 'miss', 'bingley', 'elizabeth', 'darcy', 'miss', 'darcy', 'elizabeth', 'bingley', 'elizabeth', 'miss', 'bennet', 'elizabeth', 'miss', 'bingley', 'wickham', 'georgiana', 'elizabeth', 'mr.', 'darcy', 'miss', 'bingley', 'elizabeth', 'georgiana', 'elizabeth', 'georgiana', 'darcy', 'miss', 'bingley', 'miss', 'eliza', 'bennet', 'mr.', 'darcy', 'louisa', 'mr.', 'darcy', 'miss', 'bingley', 'darcy', 'elizabeth', 'hertfordshire', 'netherfield', 'darcy', 'miss', 'bingley', 'mrs.', 'gardiner', 'elizabeth', 'elizabeth', 'mrs.', 'gardiner', 'mrs.', 'gardiner']\n",
            "   Adjective  Count\n",
            "0        own      7\n",
            "1       much      7\n",
            "2       more      7\n",
            "3      other      6\n",
            "4       such      6\n",
            "5     little      6\n",
            "6       very      5\n",
            "7       many      5\n",
            "8    anxious      4\n",
            "9      least      4\n",
            "10      good      4\n",
            "11     whole      4\n",
            "12   pleased      4\n",
            "13      last      4\n",
            "14     great      4\n",
            "15       new      3\n",
            "16       few      3\n",
            "17    lively      3\n",
            "18   evident      3\n",
            "19     eager      3\n"
          ]
        },
        {
          "output_type": "display_data",
          "data": {
            "text/html": [
              "<html>\n",
              "<head><meta charset=\"utf-8\" /></head>\n",
              "<body>\n",
              "    <div>            <script src=\"https://cdnjs.cloudflare.com/ajax/libs/mathjax/2.7.5/MathJax.js?config=TeX-AMS-MML_SVG\"></script><script type=\"text/javascript\">if (window.MathJax && window.MathJax.Hub && window.MathJax.Hub.Config) {window.MathJax.Hub.Config({SVG: {font: \"STIX-Web\"}});}</script>                <script type=\"text/javascript\">window.PlotlyConfig = {MathJaxConfig: 'local'};</script>\n",
              "        <script charset=\"utf-8\" src=\"https://cdn.plot.ly/plotly-2.35.2.min.js\"></script>                <div id=\"56f62351-f106-436e-8b18-914aed9a3b80\" class=\"plotly-graph-div\" style=\"height:525px; width:100%;\"></div>            <script type=\"text/javascript\">                                    window.PLOTLYENV=window.PLOTLYENV || {};                                    if (document.getElementById(\"56f62351-f106-436e-8b18-914aed9a3b80\")) {                    Plotly.newPlot(                        \"56f62351-f106-436e-8b18-914aed9a3b80\",                        [{\"alignmentgroup\":\"True\",\"hovertemplate\":\"Adjective=%{x}\\u003cbr\\u003eFrequency=%{y}\\u003cextra\\u003e\\u003c\\u002fextra\\u003e\",\"legendgroup\":\"\",\"marker\":{\"color\":\"#636efa\",\"pattern\":{\"shape\":\"\"}},\"name\":\"\",\"offsetgroup\":\"\",\"orientation\":\"v\",\"showlegend\":false,\"textposition\":\"auto\",\"x\":[\"own\",\"much\",\"more\",\"other\",\"such\",\"little\",\"very\",\"many\",\"anxious\",\"least\",\"good\",\"whole\",\"pleased\",\"last\",\"great\",\"new\",\"few\",\"lively\",\"evident\",\"eager\"],\"xaxis\":\"x\",\"y\":[7,7,7,6,6,6,5,5,4,4,4,4,4,4,4,3,3,3,3,3],\"yaxis\":\"y\",\"type\":\"bar\"}],                        {\"template\":{\"data\":{\"histogram2dcontour\":[{\"type\":\"histogram2dcontour\",\"colorbar\":{\"outlinewidth\":0,\"ticks\":\"\"},\"colorscale\":[[0.0,\"#0d0887\"],[0.1111111111111111,\"#46039f\"],[0.2222222222222222,\"#7201a8\"],[0.3333333333333333,\"#9c179e\"],[0.4444444444444444,\"#bd3786\"],[0.5555555555555556,\"#d8576b\"],[0.6666666666666666,\"#ed7953\"],[0.7777777777777778,\"#fb9f3a\"],[0.8888888888888888,\"#fdca26\"],[1.0,\"#f0f921\"]]}],\"choropleth\":[{\"type\":\"choropleth\",\"colorbar\":{\"outlinewidth\":0,\"ticks\":\"\"}}],\"histogram2d\":[{\"type\":\"histogram2d\",\"colorbar\":{\"outlinewidth\":0,\"ticks\":\"\"},\"colorscale\":[[0.0,\"#0d0887\"],[0.1111111111111111,\"#46039f\"],[0.2222222222222222,\"#7201a8\"],[0.3333333333333333,\"#9c179e\"],[0.4444444444444444,\"#bd3786\"],[0.5555555555555556,\"#d8576b\"],[0.6666666666666666,\"#ed7953\"],[0.7777777777777778,\"#fb9f3a\"],[0.8888888888888888,\"#fdca26\"],[1.0,\"#f0f921\"]]}],\"heatmap\":[{\"type\":\"heatmap\",\"colorbar\":{\"outlinewidth\":0,\"ticks\":\"\"},\"colorscale\":[[0.0,\"#0d0887\"],[0.1111111111111111,\"#46039f\"],[0.2222222222222222,\"#7201a8\"],[0.3333333333333333,\"#9c179e\"],[0.4444444444444444,\"#bd3786\"],[0.5555555555555556,\"#d8576b\"],[0.6666666666666666,\"#ed7953\"],[0.7777777777777778,\"#fb9f3a\"],[0.8888888888888888,\"#fdca26\"],[1.0,\"#f0f921\"]]}],\"heatmapgl\":[{\"type\":\"heatmapgl\",\"colorbar\":{\"outlinewidth\":0,\"ticks\":\"\"},\"colorscale\":[[0.0,\"#0d0887\"],[0.1111111111111111,\"#46039f\"],[0.2222222222222222,\"#7201a8\"],[0.3333333333333333,\"#9c179e\"],[0.4444444444444444,\"#bd3786\"],[0.5555555555555556,\"#d8576b\"],[0.6666666666666666,\"#ed7953\"],[0.7777777777777778,\"#fb9f3a\"],[0.8888888888888888,\"#fdca26\"],[1.0,\"#f0f921\"]]}],\"contourcarpet\":[{\"type\":\"contourcarpet\",\"colorbar\":{\"outlinewidth\":0,\"ticks\":\"\"}}],\"contour\":[{\"type\":\"contour\",\"colorbar\":{\"outlinewidth\":0,\"ticks\":\"\"},\"colorscale\":[[0.0,\"#0d0887\"],[0.1111111111111111,\"#46039f\"],[0.2222222222222222,\"#7201a8\"],[0.3333333333333333,\"#9c179e\"],[0.4444444444444444,\"#bd3786\"],[0.5555555555555556,\"#d8576b\"],[0.6666666666666666,\"#ed7953\"],[0.7777777777777778,\"#fb9f3a\"],[0.8888888888888888,\"#fdca26\"],[1.0,\"#f0f921\"]]}],\"surface\":[{\"type\":\"surface\",\"colorbar\":{\"outlinewidth\":0,\"ticks\":\"\"},\"colorscale\":[[0.0,\"#0d0887\"],[0.1111111111111111,\"#46039f\"],[0.2222222222222222,\"#7201a8\"],[0.3333333333333333,\"#9c179e\"],[0.4444444444444444,\"#bd3786\"],[0.5555555555555556,\"#d8576b\"],[0.6666666666666666,\"#ed7953\"],[0.7777777777777778,\"#fb9f3a\"],[0.8888888888888888,\"#fdca26\"],[1.0,\"#f0f921\"]]}],\"mesh3d\":[{\"type\":\"mesh3d\",\"colorbar\":{\"outlinewidth\":0,\"ticks\":\"\"}}],\"scatter\":[{\"fillpattern\":{\"fillmode\":\"overlay\",\"size\":10,\"solidity\":0.2},\"type\":\"scatter\"}],\"parcoords\":[{\"type\":\"parcoords\",\"line\":{\"colorbar\":{\"outlinewidth\":0,\"ticks\":\"\"}}}],\"scatterpolargl\":[{\"type\":\"scatterpolargl\",\"marker\":{\"colorbar\":{\"outlinewidth\":0,\"ticks\":\"\"}}}],\"bar\":[{\"error_x\":{\"color\":\"#2a3f5f\"},\"error_y\":{\"color\":\"#2a3f5f\"},\"marker\":{\"line\":{\"color\":\"#E5ECF6\",\"width\":0.5},\"pattern\":{\"fillmode\":\"overlay\",\"size\":10,\"solidity\":0.2}},\"type\":\"bar\"}],\"scattergeo\":[{\"type\":\"scattergeo\",\"marker\":{\"colorbar\":{\"outlinewidth\":0,\"ticks\":\"\"}}}],\"scatterpolar\":[{\"type\":\"scatterpolar\",\"marker\":{\"colorbar\":{\"outlinewidth\":0,\"ticks\":\"\"}}}],\"histogram\":[{\"marker\":{\"pattern\":{\"fillmode\":\"overlay\",\"size\":10,\"solidity\":0.2}},\"type\":\"histogram\"}],\"scattergl\":[{\"type\":\"scattergl\",\"marker\":{\"colorbar\":{\"outlinewidth\":0,\"ticks\":\"\"}}}],\"scatter3d\":[{\"type\":\"scatter3d\",\"line\":{\"colorbar\":{\"outlinewidth\":0,\"ticks\":\"\"}},\"marker\":{\"colorbar\":{\"outlinewidth\":0,\"ticks\":\"\"}}}],\"scattermapbox\":[{\"type\":\"scattermapbox\",\"marker\":{\"colorbar\":{\"outlinewidth\":0,\"ticks\":\"\"}}}],\"scatterternary\":[{\"type\":\"scatterternary\",\"marker\":{\"colorbar\":{\"outlinewidth\":0,\"ticks\":\"\"}}}],\"scattercarpet\":[{\"type\":\"scattercarpet\",\"marker\":{\"colorbar\":{\"outlinewidth\":0,\"ticks\":\"\"}}}],\"carpet\":[{\"aaxis\":{\"endlinecolor\":\"#2a3f5f\",\"gridcolor\":\"white\",\"linecolor\":\"white\",\"minorgridcolor\":\"white\",\"startlinecolor\":\"#2a3f5f\"},\"baxis\":{\"endlinecolor\":\"#2a3f5f\",\"gridcolor\":\"white\",\"linecolor\":\"white\",\"minorgridcolor\":\"white\",\"startlinecolor\":\"#2a3f5f\"},\"type\":\"carpet\"}],\"table\":[{\"cells\":{\"fill\":{\"color\":\"#EBF0F8\"},\"line\":{\"color\":\"white\"}},\"header\":{\"fill\":{\"color\":\"#C8D4E3\"},\"line\":{\"color\":\"white\"}},\"type\":\"table\"}],\"barpolar\":[{\"marker\":{\"line\":{\"color\":\"#E5ECF6\",\"width\":0.5},\"pattern\":{\"fillmode\":\"overlay\",\"size\":10,\"solidity\":0.2}},\"type\":\"barpolar\"}],\"pie\":[{\"automargin\":true,\"type\":\"pie\"}]},\"layout\":{\"autotypenumbers\":\"strict\",\"colorway\":[\"#636efa\",\"#EF553B\",\"#00cc96\",\"#ab63fa\",\"#FFA15A\",\"#19d3f3\",\"#FF6692\",\"#B6E880\",\"#FF97FF\",\"#FECB52\"],\"font\":{\"color\":\"#2a3f5f\"},\"hovermode\":\"closest\",\"hoverlabel\":{\"align\":\"left\"},\"paper_bgcolor\":\"white\",\"plot_bgcolor\":\"#E5ECF6\",\"polar\":{\"bgcolor\":\"#E5ECF6\",\"angularaxis\":{\"gridcolor\":\"white\",\"linecolor\":\"white\",\"ticks\":\"\"},\"radialaxis\":{\"gridcolor\":\"white\",\"linecolor\":\"white\",\"ticks\":\"\"}},\"ternary\":{\"bgcolor\":\"#E5ECF6\",\"aaxis\":{\"gridcolor\":\"white\",\"linecolor\":\"white\",\"ticks\":\"\"},\"baxis\":{\"gridcolor\":\"white\",\"linecolor\":\"white\",\"ticks\":\"\"},\"caxis\":{\"gridcolor\":\"white\",\"linecolor\":\"white\",\"ticks\":\"\"}},\"coloraxis\":{\"colorbar\":{\"outlinewidth\":0,\"ticks\":\"\"}},\"colorscale\":{\"sequential\":[[0.0,\"#0d0887\"],[0.1111111111111111,\"#46039f\"],[0.2222222222222222,\"#7201a8\"],[0.3333333333333333,\"#9c179e\"],[0.4444444444444444,\"#bd3786\"],[0.5555555555555556,\"#d8576b\"],[0.6666666666666666,\"#ed7953\"],[0.7777777777777778,\"#fb9f3a\"],[0.8888888888888888,\"#fdca26\"],[1.0,\"#f0f921\"]],\"sequentialminus\":[[0.0,\"#0d0887\"],[0.1111111111111111,\"#46039f\"],[0.2222222222222222,\"#7201a8\"],[0.3333333333333333,\"#9c179e\"],[0.4444444444444444,\"#bd3786\"],[0.5555555555555556,\"#d8576b\"],[0.6666666666666666,\"#ed7953\"],[0.7777777777777778,\"#fb9f3a\"],[0.8888888888888888,\"#fdca26\"],[1.0,\"#f0f921\"]],\"diverging\":[[0,\"#8e0152\"],[0.1,\"#c51b7d\"],[0.2,\"#de77ae\"],[0.3,\"#f1b6da\"],[0.4,\"#fde0ef\"],[0.5,\"#f7f7f7\"],[0.6,\"#e6f5d0\"],[0.7,\"#b8e186\"],[0.8,\"#7fbc41\"],[0.9,\"#4d9221\"],[1,\"#276419\"]]},\"xaxis\":{\"gridcolor\":\"white\",\"linecolor\":\"white\",\"ticks\":\"\",\"title\":{\"standoff\":15},\"zerolinecolor\":\"white\",\"automargin\":true,\"zerolinewidth\":2},\"yaxis\":{\"gridcolor\":\"white\",\"linecolor\":\"white\",\"ticks\":\"\",\"title\":{\"standoff\":15},\"zerolinecolor\":\"white\",\"automargin\":true,\"zerolinewidth\":2},\"scene\":{\"xaxis\":{\"backgroundcolor\":\"#E5ECF6\",\"gridcolor\":\"white\",\"linecolor\":\"white\",\"showbackground\":true,\"ticks\":\"\",\"zerolinecolor\":\"white\",\"gridwidth\":2},\"yaxis\":{\"backgroundcolor\":\"#E5ECF6\",\"gridcolor\":\"white\",\"linecolor\":\"white\",\"showbackground\":true,\"ticks\":\"\",\"zerolinecolor\":\"white\",\"gridwidth\":2},\"zaxis\":{\"backgroundcolor\":\"#E5ECF6\",\"gridcolor\":\"white\",\"linecolor\":\"white\",\"showbackground\":true,\"ticks\":\"\",\"zerolinecolor\":\"white\",\"gridwidth\":2}},\"shapedefaults\":{\"line\":{\"color\":\"#2a3f5f\"}},\"annotationdefaults\":{\"arrowcolor\":\"#2a3f5f\",\"arrowhead\":0,\"arrowwidth\":1},\"geo\":{\"bgcolor\":\"white\",\"landcolor\":\"#E5ECF6\",\"subunitcolor\":\"white\",\"showland\":true,\"showlakes\":true,\"lakecolor\":\"white\"},\"title\":{\"x\":0.05},\"mapbox\":{\"style\":\"light\"}}},\"xaxis\":{\"anchor\":\"y\",\"domain\":[0.0,1.0],\"title\":{\"text\":\"Adjective\"}},\"yaxis\":{\"anchor\":\"x\",\"domain\":[0.0,1.0],\"title\":{\"text\":\"Frequency\"}},\"legend\":{\"tracegroupgap\":0},\"title\":{\"text\":\"Top 20 Adjectives in Chapters 44 and 45 of Pride and Prejudice\"},\"barmode\":\"relative\"},                        {\"responsive\": true}                    ).then(function(){\n",
              "                            \n",
              "var gd = document.getElementById('56f62351-f106-436e-8b18-914aed9a3b80');\n",
              "var x = new MutationObserver(function (mutations, observer) {{\n",
              "        var display = window.getComputedStyle(gd).display;\n",
              "        if (!display || display === 'none') {{\n",
              "            console.log([gd, 'removed!']);\n",
              "            Plotly.purge(gd);\n",
              "            observer.disconnect();\n",
              "        }}\n",
              "}});\n",
              "\n",
              "// Listen for the removal of the full notebook cells\n",
              "var notebookContainer = gd.closest('#notebook-container');\n",
              "if (notebookContainer) {{\n",
              "    x.observe(notebookContainer, {childList: true});\n",
              "}}\n",
              "\n",
              "// Listen for the clearing of the current output cell\n",
              "var outputEl = gd.closest('.output');\n",
              "if (outputEl) {{\n",
              "    x.observe(outputEl, {childList: true});\n",
              "}}\n",
              "\n",
              "                        })                };                            </script>        </div>\n",
              "</body>\n",
              "</html>"
            ]
          },
          "metadata": {}
        }
      ]
    },
    {
      "cell_type": "code",
      "source": [
        "pride"
      ],
      "metadata": {
        "colab": {
          "base_uri": "https://localhost:8080/",
          "height": 268
        },
        "id": "ICQJaHrZSbE2",
        "outputId": "7e76fae9-3142-46ce-b7ff-1b3d01d8cbce"
      },
      "execution_count": null,
      "outputs": [
        {
          "output_type": "execute_result",
          "data": {
            "text/plain": [
              "\"Chapter 44\\n\\n\\nElizabeth had settled it that Mr. Darcy would bring his sister to visit\\nher the very day after her reaching Pemberley; and was consequently\\nresolved not to be out of sight of the inn the whole of that morning.\\nBut her conclusion was false; for on the very morning after their\\narrival at Lambton, these visitors came. They had been walking about the\\nplace with some of their new friends, and were just returning to the inn\\nto dress themselves for dining with the same family, when the sound of a\\ncarriage drew them to a window, and they saw a gentleman and a lady in\\na curricle driving up the street. Elizabeth immediately recognizing\\nthe livery, guessed what it meant, and imparted no small degree of her\\nsurprise to her relations by acquainting them with the honour which she\\nexpected. Her uncle and aunt were all amazement; and the embarrassment\\nof her manner as she spoke, joined to the circumstance itself, and many\\nof the circumstances of the preceding day, opened to them a new idea on\\nthe business. Nothing had ever suggested it before, but they felt that\\nthere was no other way of accounting for such attentions from such a\\nquarter than by supposing a partiality for their niece. While these\\nnewly-born notions were passing in their heads, the perturbation of\\nElizabeth's feelings was at every moment increasing. She was quite\\namazed at her own discomposure; but amongst other causes of disquiet,\\nshe dreaded lest the partiality of the brother should have said too much\\nin her favour; and, more than commonly anxious to please, she naturally\\nsuspected that every power of pleasing would fail her.\\n\\nShe retreated from the window, fearful of being seen; and as she walked\\nup and down the room, endeavouring to compose herself, saw such looks of\\ninquiring surprise in her uncle and aunt as made everything worse.\\n\\nMiss Darcy and her brother appeared, and this formidable introduction\\ntook place. With astonishment did Elizabeth see that her new\\nacquaintance was at least as much embarrassed as herself. Since her\\nbeing at Lambton, she had heard that Miss Darcy was exceedingly proud;\\nbut the observation of a very few minutes convinced her that she was\\nonly exceedingly shy. She found it difficult to obtain even a word from\\nher beyond a monosyllable.\\n\\nMiss Darcy was tall, and on a larger scale than Elizabeth; and, though\\nlittle more than sixteen, her figure was formed, and her appearance\\nwomanly and graceful. She was less handsome than her brother; but there\\nwas sense and good humour in her face, and her manners were perfectly\\nunassuming and gentle. Elizabeth, who had expected to find in her as\\nacute and unembarrassed an observer as ever Mr. Darcy had been, was much\\nrelieved by discerning such different feelings.\\n\\nThey had not long been together before Mr. Darcy told her that Bingley\\nwas also coming to wait on her; and she had barely time to express her\\nsatisfaction, and prepare for such a visitor, when Bingley's quick\\nstep was heard on the stairs, and in a moment he entered the room. All\\nElizabeth's anger against him had been long done away; but had she still\\nfelt any, it could hardly have stood its ground against the unaffected\\ncordiality with which he expressed himself on seeing her again. He\\ninquired in a friendly, though general way, after her family, and looked\\nand spoke with the same good-humoured ease that he had ever done.\\n\\nTo Mr. and Mrs. Gardiner he was scarcely a less interesting personage\\nthan to herself. They had long wished to see him. The whole party before\\nthem, indeed, excited a lively attention. The suspicions which had just\\narisen of Mr. Darcy and their niece directed their observation towards\\neach with an earnest though guarded inquiry; and they soon drew from\\nthose inquiries the full conviction that one of them at least knew\\nwhat it was to love. Of the lady's sensations they remained a little\\nin doubt; but that the gentleman was overflowing with admiration was\\nevident enough.\\n\\nElizabeth, on her side, had much to do. She wanted to ascertain the\\nfeelings of each of her visitors; she wanted to compose her own, and\\nto make herself agreeable to all; and in the latter object, where she\\nfeared most to fail, she was most sure of success, for those to whom she\\nendeavoured to give pleasure were prepossessed in her favour. Bingley\\nwas ready, Georgiana was eager, and Darcy determined, to be pleased.\\n\\nIn seeing Bingley, her thoughts naturally flew to her sister; and, oh!\\nhow ardently did she long to know whether any of his were directed in\\na like manner. Sometimes she could fancy that he talked less than on\\nformer occasions, and once or twice pleased herself with the notion\\nthat, as he looked at her, he was trying to trace a resemblance. But,\\nthough this might be imaginary, she could not be deceived as to his\\nbehaviour to Miss Darcy, who had been set up as a rival to Jane. No look\\nappeared on either side that spoke particular regard. Nothing occurred\\nbetween them that could justify the hopes of his sister. On this point\\nshe was soon satisfied; and two or three little circumstances occurred\\nere they parted, which, in her anxious interpretation, denoted a\\nrecollection of Jane not untinctured by tenderness, and a wish of saying\\nmore that might lead to the mention of her, had he dared. He observed\\nto her, at a moment when the others were talking together, and in a tone\\nwhich had something of real regret, that it “was a very long time since\\nhe had had the pleasure of seeing her;” and, before she could reply,\\nhe added, “It is above eight months. We have not met since the 26th of\\nNovember, when we were all dancing together at Netherfield.”\\n\\nElizabeth was pleased to find his memory so exact; and he afterwards\\ntook occasion to ask her, when unattended to by any of the rest, whether\\n_all_ her sisters were at Longbourn. There was not much in the question,\\nnor in the preceding remark; but there was a look and a manner which\\ngave them meaning.\\n\\nIt was not often that she could turn her eyes on Mr. Darcy himself;\\nbut, whenever she did catch a glimpse, she saw an expression of general\\ncomplaisance, and in all that he said she heard an accent so removed\\nfrom _hauteur_ or disdain of his companions, as convinced her that\\nthe improvement of manners which she had yesterday witnessed however\\ntemporary its existence might prove, had at least outlived one day. When\\nshe saw him thus seeking the acquaintance and courting the good opinion\\nof people with whom any intercourse a few months ago would have been a\\ndisgrace--when she saw him thus civil, not only to herself, but to the\\nvery relations whom he had openly disdained, and recollected their last\\nlively scene in Hunsford Parsonage--the difference, the change was\\nso great, and struck so forcibly on her mind, that she could hardly\\nrestrain her astonishment from being visible. Never, even in the company\\nof his dear friends at Netherfield, or his dignified relations\\nat Rosings, had she seen him so desirous to please, so free from\\nself-consequence or unbending reserve, as now, when no importance\\ncould result from the success of his endeavours, and when even the\\nacquaintance of those to whom his attentions were addressed would draw\\ndown the ridicule and censure of the ladies both of Netherfield and\\nRosings.\\n\\nTheir visitors stayed with them above half-an-hour; and when they arose\\nto depart, Mr. Darcy called on his sister to join him in expressing\\ntheir wish of seeing Mr. and Mrs. Gardiner, and Miss Bennet, to dinner\\nat Pemberley, before they left the country. Miss Darcy, though with a\\ndiffidence which marked her little in the habit of giving invitations,\\nreadily obeyed. Mrs. Gardiner looked at her niece, desirous of knowing\\nhow _she_, whom the invitation most concerned, felt disposed as to its\\nacceptance, but Elizabeth had turned away her head. Presuming however,\\nthat this studied avoidance spoke rather a momentary embarrassment than\\nany dislike of the proposal, and seeing in her husband, who was fond of\\nsociety, a perfect willingness to accept it, she ventured to engage for\\nher attendance, and the day after the next was fixed on.\\n\\nBingley expressed great pleasure in the certainty of seeing Elizabeth\\nagain, having still a great deal to say to her, and many inquiries to\\nmake after all their Hertfordshire friends. Elizabeth, construing all\\nthis into a wish of hearing her speak of her sister, was pleased, and on\\nthis account, as well as some others, found herself, when their\\nvisitors left them, capable of considering the last half-hour with some\\nsatisfaction, though while it was passing, the enjoyment of it had been\\nlittle. Eager to be alone, and fearful of inquiries or hints from her\\nuncle and aunt, she stayed with them only long enough to hear their\\nfavourable opinion of Bingley, and then hurried away to dress.\\n\\nBut she had no reason to fear Mr. and Mrs. Gardiner's curiosity; it was\\nnot their wish to force her communication. It was evident that she was\\nmuch better acquainted with Mr. Darcy than they had before any idea of;\\nit was evident that he was very much in love with her. They saw much to\\ninterest, but nothing to justify inquiry.\\n\\nOf Mr. Darcy it was now a matter of anxiety to think well; and, as far\\nas their acquaintance reached, there was no fault to find. They could\\nnot be untouched by his politeness; and had they drawn his character\\nfrom their own feelings and his servant's report, without any reference\\nto any other account, the circle in Hertfordshire to which he was known\\nwould not have recognized it for Mr. Darcy. There was now an interest,\\nhowever, in believing the housekeeper; and they soon became sensible\\nthat the authority of a servant who had known him since he was four\\nyears old, and whose own manners indicated respectability, was not to be\\nhastily rejected. Neither had anything occurred in the intelligence of\\ntheir Lambton friends that could materially lessen its weight. They had\\nnothing to accuse him of but pride; pride he probably had, and if not,\\nit would certainly be imputed by the inhabitants of a small market-town\\nwhere the family did not visit. It was acknowledged, however, that he\\nwas a liberal man, and did much good among the poor.\\n\\nWith respect to Wickham, the travellers soon found that he was not held\\nthere in much estimation; for though the chief of his concerns with the\\nson of his patron were imperfectly understood, it was yet a well-known\\nfact that, on his quitting Derbyshire, he had left many debts behind\\nhim, which Mr. Darcy afterwards discharged.\\n\\nAs for Elizabeth, her thoughts were at Pemberley this evening more than\\nthe last; and the evening, though as it passed it seemed long, was not\\nlong enough to determine her feelings towards _one_ in that mansion;\\nand she lay awake two whole hours endeavouring to make them out. She\\ncertainly did not hate him. No; hatred had vanished long ago, and she\\nhad almost as long been ashamed of ever feeling a dislike against him,\\nthat could be so called. The respect created by the conviction of his\\nvaluable qualities, though at first unwillingly admitted, had for some\\ntime ceased to be repugnant to her feeling; and it was now heightened\\ninto somewhat of a friendlier nature, by the testimony so highly in\\nhis favour, and bringing forward his disposition in so amiable a light,\\nwhich yesterday had produced. But above all, above respect and esteem,\\nthere was a motive within her of goodwill which could not be overlooked.\\nIt was gratitude; gratitude, not merely for having once loved her,\\nbut for loving her still well enough to forgive all the petulance and\\nacrimony of her manner in rejecting him, and all the unjust accusations\\naccompanying her rejection. He who, she had been persuaded, would avoid\\nher as his greatest enemy, seemed, on this accidental meeting, most\\neager to preserve the acquaintance, and without any indelicate display\\nof regard, or any peculiarity of manner, where their two selves only\\nwere concerned, was soliciting the good opinion of her friends, and bent\\non making her known to his sister. Such a change in a man of so much\\npride exciting not only astonishment but gratitude--for to love, ardent\\nlove, it must be attributed; and as such its impression on her was of a\\nsort to be encouraged, as by no means unpleasing, though it could not be\\nexactly defined. She respected, she esteemed, she was grateful to him,\\nshe felt a real interest in his welfare; and she only wanted to know how\\nfar she wished that welfare to depend upon herself, and how far it would\\nbe for the happiness of both that she should employ the power, which her\\nfancy told her she still possessed, of bringing on her the renewal of\\nhis addresses.\\n\\nIt had been settled in the evening between the aunt and the niece, that\\nsuch a striking civility as Miss Darcy's in coming to see them on the\\nvery day of her arrival at Pemberley, for she had reached it only to a\\nlate breakfast, ought to be imitated, though it could not be equalled,\\nby some exertion of politeness on their side; and, consequently, that\\nit would be highly expedient to wait on her at Pemberley the following\\nmorning. They were, therefore, to go. Elizabeth was pleased; though when\\nshe asked herself the reason, she had very little to say in reply.\\n\\nMr. Gardiner left them soon after breakfast. The fishing scheme had been\\nrenewed the day before, and a positive engagement made of his meeting\\nsome of the gentlemen at Pemberley before noon.\\n\\n\\n\\nChapter 45\\n\\n\\nConvinced as Elizabeth now was that Miss Bingley's dislike of her had\\noriginated in jealousy, she could not help feeling how unwelcome her\\nappearance at Pemberley must be to her, and was curious to know with how\\nmuch civility on that lady's side the acquaintance would now be renewed.\\n\\nOn reaching the house, they were shown through the hall into the saloon,\\nwhose northern aspect rendered it delightful for summer. Its windows\\nopening to the ground, admitted a most refreshing view of the high woody\\nhills behind the house, and of the beautiful oaks and Spanish chestnuts\\nwhich were scattered over the intermediate lawn.\\n\\nIn this house they were received by Miss Darcy, who was sitting there\\nwith Mrs. Hurst and Miss Bingley, and the lady with whom she lived in\\nLondon. Georgiana's reception of them was very civil, but attended with\\nall the embarrassment which, though proceeding from shyness and the fear\\nof doing wrong, would easily give to those who felt themselves inferior\\nthe belief of her being proud and reserved. Mrs. Gardiner and her niece,\\nhowever, did her justice, and pitied her.\\n\\nBy Mrs. Hurst and Miss Bingley they were noticed only by a curtsey; and,\\non their being seated, a pause, awkward as such pauses must always be,\\nsucceeded for a few moments. It was first broken by Mrs. Annesley, a\\ngenteel, agreeable-looking woman, whose endeavour to introduce some kind\\nof discourse proved her to be more truly well-bred than either of the\\nothers; and between her and Mrs. Gardiner, with occasional help from\\nElizabeth, the conversation was carried on. Miss Darcy looked as if she\\nwished for courage enough to join in it; and sometimes did venture a\\nshort sentence when there was least danger of its being heard.\\n\\nElizabeth soon saw that she was herself closely watched by Miss Bingley,\\nand that she could not speak a word, especially to Miss Darcy, without\\ncalling her attention. This observation would not have prevented her\\nfrom trying to talk to the latter, had they not been seated at an\\ninconvenient distance; but she was not sorry to be spared the necessity\\nof saying much. Her own thoughts were employing her. She expected every\\nmoment that some of the gentlemen would enter the room. She wished, she\\nfeared that the master of the house might be amongst them; and whether\\nshe wished or feared it most, she could scarcely determine. After\\nsitting in this manner a quarter of an hour without hearing Miss\\nBingley's voice, Elizabeth was roused by receiving from her a cold\\ninquiry after the health of her family. She answered with equal\\nindifference and brevity, and the other said no more.\\n\\nThe next variation which their visit afforded was produced by the\\nentrance of servants with cold meat, cake, and a variety of all the\\nfinest fruits in season; but this did not take place till after many\\na significant look and smile from Mrs. Annesley to Miss Darcy had been\\ngiven, to remind her of her post. There was now employment for the whole\\nparty--for though they could not all talk, they could all eat; and the\\nbeautiful pyramids of grapes, nectarines, and peaches soon collected\\nthem round the table.\\n\\nWhile thus engaged, Elizabeth had a fair opportunity of deciding whether\\nshe most feared or wished for the appearance of Mr. Darcy, by the\\nfeelings which prevailed on his entering the room; and then, though but\\na moment before she had believed her wishes to predominate, she began to\\nregret that he came.\\n\\nHe had been some time with Mr. Gardiner, who, with two or three other\\ngentlemen from the house, was engaged by the river, and had left him\\nonly on learning that the ladies of the family intended a visit to\\nGeorgiana that morning. No sooner did he appear than Elizabeth wisely\\nresolved to be perfectly easy and unembarrassed; a resolution the more\\nnecessary to be made, but perhaps not the more easily kept, because she\\nsaw that the suspicions of the whole party were awakened against them,\\nand that there was scarcely an eye which did not watch his behaviour\\nwhen he first came into the room. In no countenance was attentive\\ncuriosity so strongly marked as in Miss Bingley's, in spite of the\\nsmiles which overspread her face whenever she spoke to one of its\\nobjects; for jealousy had not yet made her desperate, and her attentions\\nto Mr. Darcy were by no means over. Miss Darcy, on her brother's\\nentrance, exerted herself much more to talk, and Elizabeth saw that he\\nwas anxious for his sister and herself to get acquainted, and forwarded\\nas much as possible, every attempt at conversation on either side. Miss\\nBingley saw all this likewise; and, in the imprudence of anger, took the\\nfirst opportunity of saying, with sneering civility:\\n\\n“Pray, Miss Eliza, are not the ----shire Militia removed from Meryton?\\nThey must be a great loss to _your_ family.”\\n\\nIn Darcy's presence she dared not mention Wickham's name; but Elizabeth\\ninstantly comprehended that he was uppermost in her thoughts; and the\\nvarious recollections connected with him gave her a moment's distress;\\nbut exerting herself vigorously to repel the ill-natured attack, she\\npresently answered the question in a tolerably detached tone. While\\nshe spoke, an involuntary glance showed her Darcy, with a heightened\\ncomplexion, earnestly looking at her, and his sister overcome with\\nconfusion, and unable to lift up her eyes. Had Miss Bingley known what\\npain she was then giving her beloved friend, she undoubtedly would\\nhave refrained from the hint; but she had merely intended to discompose\\nElizabeth by bringing forward the idea of a man to whom she believed\\nher partial, to make her betray a sensibility which might injure her in\\nDarcy's opinion, and, perhaps, to remind the latter of all the follies\\nand absurdities by which some part of her family were connected\\nwith that corps. Not a syllable had ever reached her of Miss Darcy's\\nmeditated elopement. To no creature had it been revealed, where secrecy\\nwas possible, except to Elizabeth; and from all Bingley's connections\\nher brother was particularly anxious to conceal it, from the very\\nwish which Elizabeth had long ago attributed to him, of their becoming\\nhereafter her own. He had certainly formed such a plan, and without\\nmeaning that it should affect his endeavour to separate him from Miss\\nBennet, it is probable that it might add something to his lively concern\\nfor the welfare of his friend.\\n\\nElizabeth's collected behaviour, however, soon quieted his emotion; and\\nas Miss Bingley, vexed and disappointed, dared not approach nearer to\\nWickham, Georgiana also recovered in time, though not enough to be able\\nto speak any more. Her brother, whose eye she feared to meet, scarcely\\nrecollected her interest in the affair, and the very circumstance which\\nhad been designed to turn his thoughts from Elizabeth seemed to have\\nfixed them on her more and more cheerfully.\\n\\nTheir visit did not continue long after the question and answer above\\nmentioned; and while Mr. Darcy was attending them to their carriage Miss\\nBingley was venting her feelings in criticisms on Elizabeth's person,\\nbehaviour, and dress. But Georgiana would not join her. Her brother's\\nrecommendation was enough to ensure her favour; his judgement could not\\nerr. And he had spoken in such terms of Elizabeth as to leave Georgiana\\nwithout the power of finding her otherwise than lovely and amiable. When\\nDarcy returned to the saloon, Miss Bingley could not help repeating to\\nhim some part of what she had been saying to his sister.\\n\\n“How very ill Miss Eliza Bennet looks this morning, Mr. Darcy,” she\\ncried; “I never in my life saw anyone so much altered as she is since\\nthe winter. She is grown so brown and coarse! Louisa and I were agreeing\\nthat we should not have known her again.”\\n\\nHowever little Mr. Darcy might have liked such an address, he contented\\nhimself with coolly replying that he perceived no other alteration than\\nher being rather tanned, no miraculous consequence of travelling in the\\nsummer.\\n\\n“For my own part,” she rejoined, “I must confess that I never could\\nsee any beauty in her. Her face is too thin; her complexion has no\\nbrilliancy; and her features are not at all handsome. Her nose\\nwants character--there is nothing marked in its lines. Her teeth are\\ntolerable, but not out of the common way; and as for her eyes,\\nwhich have sometimes been called so fine, I could never see anything\\nextraordinary in them. They have a sharp, shrewish look, which I do\\nnot like at all; and in her air altogether there is a self-sufficiency\\nwithout fashion, which is intolerable.”\\n\\nPersuaded as Miss Bingley was that Darcy admired Elizabeth, this was not\\nthe best method of recommending herself; but angry people are not always\\nwise; and in seeing him at last look somewhat nettled, she had all the\\nsuccess she expected. He was resolutely silent, however, and, from a\\ndetermination of making him speak, she continued:\\n\\n“I remember, when we first knew her in Hertfordshire, how amazed we all\\nwere to find that she was a reputed beauty; and I particularly recollect\\nyour saying one night, after they had been dining at Netherfield, '_She_\\na beauty!--I should as soon call her mother a wit.' But afterwards she\\nseemed to improve on you, and I believe you thought her rather pretty at\\none time.”\\n\\n“Yes,” replied Darcy, who could contain himself no longer, “but _that_\\nwas only when I first saw her, for it is many months since I have\\nconsidered her as one of the handsomest women of my acquaintance.”\\n\\nHe then went away, and Miss Bingley was left to all the satisfaction of\\nhaving forced him to say what gave no one any pain but herself.\\n\\nMrs. Gardiner and Elizabeth talked of all that had occurred during their\\nvisit, as they returned, except what had particularly interested them\\nboth. The look and behaviour of everybody they had seen were discussed,\\nexcept of the person who had mostly engaged their attention. They talked\\nof his sister, his friends, his house, his fruit--of everything but\\nhimself; yet Elizabeth was longing to know what Mrs. Gardiner thought of\\nhim, and Mrs. Gardiner would have been highly gratified by her niece's\\nbeginning the subject.\\n\\n\""
            ],
            "application/vnd.google.colaboratory.intrinsic+json": {
              "type": "string"
            }
          },
          "metadata": {},
          "execution_count": 17
        }
      ]
    },
    {
      "cell_type": "code",
      "source": [
        "!python -m spacy download en_core_web_sm"
      ],
      "metadata": {
        "colab": {
          "base_uri": "https://localhost:8080/"
        },
        "id": "nyHoGXDQSDGH",
        "outputId": "ae941fa4-8a77-4189-d959-ea02a8298b34"
      },
      "execution_count": null,
      "outputs": [
        {
          "output_type": "stream",
          "name": "stdout",
          "text": [
            "Collecting en-core-web-sm==3.7.1\n",
            "  Downloading https://github.com/explosion/spacy-models/releases/download/en_core_web_sm-3.7.1/en_core_web_sm-3.7.1-py3-none-any.whl (12.8 MB)\n",
            "\u001b[2K     \u001b[90m━━━━━━━━━━━━━━━━━━━━━━━━━━━━━━━━━━━━━━━━\u001b[0m \u001b[32m12.8/12.8 MB\u001b[0m \u001b[31m62.1 MB/s\u001b[0m eta \u001b[36m0:00:00\u001b[0m\n",
            "\u001b[?25hRequirement already satisfied: spacy<3.8.0,>=3.7.2 in /usr/local/lib/python3.10/dist-packages (from en-core-web-sm==3.7.1) (3.7.5)\n",
            "Requirement already satisfied: spacy-legacy<3.1.0,>=3.0.11 in /usr/local/lib/python3.10/dist-packages (from spacy<3.8.0,>=3.7.2->en-core-web-sm==3.7.1) (3.0.12)\n",
            "Requirement already satisfied: spacy-loggers<2.0.0,>=1.0.0 in /usr/local/lib/python3.10/dist-packages (from spacy<3.8.0,>=3.7.2->en-core-web-sm==3.7.1) (1.0.5)\n",
            "Requirement already satisfied: murmurhash<1.1.0,>=0.28.0 in /usr/local/lib/python3.10/dist-packages (from spacy<3.8.0,>=3.7.2->en-core-web-sm==3.7.1) (1.0.10)\n",
            "Requirement already satisfied: cymem<2.1.0,>=2.0.2 in /usr/local/lib/python3.10/dist-packages (from spacy<3.8.0,>=3.7.2->en-core-web-sm==3.7.1) (2.0.8)\n",
            "Requirement already satisfied: preshed<3.1.0,>=3.0.2 in /usr/local/lib/python3.10/dist-packages (from spacy<3.8.0,>=3.7.2->en-core-web-sm==3.7.1) (3.0.9)\n",
            "Requirement already satisfied: thinc<8.3.0,>=8.2.2 in /usr/local/lib/python3.10/dist-packages (from spacy<3.8.0,>=3.7.2->en-core-web-sm==3.7.1) (8.2.5)\n",
            "Requirement already satisfied: wasabi<1.2.0,>=0.9.1 in /usr/local/lib/python3.10/dist-packages (from spacy<3.8.0,>=3.7.2->en-core-web-sm==3.7.1) (1.1.3)\n",
            "Requirement already satisfied: srsly<3.0.0,>=2.4.3 in /usr/local/lib/python3.10/dist-packages (from spacy<3.8.0,>=3.7.2->en-core-web-sm==3.7.1) (2.4.8)\n",
            "Requirement already satisfied: catalogue<2.1.0,>=2.0.6 in /usr/local/lib/python3.10/dist-packages (from spacy<3.8.0,>=3.7.2->en-core-web-sm==3.7.1) (2.0.10)\n",
            "Requirement already satisfied: weasel<0.5.0,>=0.1.0 in /usr/local/lib/python3.10/dist-packages (from spacy<3.8.0,>=3.7.2->en-core-web-sm==3.7.1) (0.4.1)\n",
            "Requirement already satisfied: typer<1.0.0,>=0.3.0 in /usr/local/lib/python3.10/dist-packages (from spacy<3.8.0,>=3.7.2->en-core-web-sm==3.7.1) (0.13.0)\n",
            "Requirement already satisfied: tqdm<5.0.0,>=4.38.0 in /usr/local/lib/python3.10/dist-packages (from spacy<3.8.0,>=3.7.2->en-core-web-sm==3.7.1) (4.66.6)\n",
            "Requirement already satisfied: requests<3.0.0,>=2.13.0 in /usr/local/lib/python3.10/dist-packages (from spacy<3.8.0,>=3.7.2->en-core-web-sm==3.7.1) (2.32.3)\n",
            "Requirement already satisfied: pydantic!=1.8,!=1.8.1,<3.0.0,>=1.7.4 in /usr/local/lib/python3.10/dist-packages (from spacy<3.8.0,>=3.7.2->en-core-web-sm==3.7.1) (2.9.2)\n",
            "Requirement already satisfied: jinja2 in /usr/local/lib/python3.10/dist-packages (from spacy<3.8.0,>=3.7.2->en-core-web-sm==3.7.1) (3.1.4)\n",
            "Requirement already satisfied: setuptools in /usr/local/lib/python3.10/dist-packages (from spacy<3.8.0,>=3.7.2->en-core-web-sm==3.7.1) (75.1.0)\n",
            "Requirement already satisfied: packaging>=20.0 in /usr/local/lib/python3.10/dist-packages (from spacy<3.8.0,>=3.7.2->en-core-web-sm==3.7.1) (24.2)\n",
            "Requirement already satisfied: langcodes<4.0.0,>=3.2.0 in /usr/local/lib/python3.10/dist-packages (from spacy<3.8.0,>=3.7.2->en-core-web-sm==3.7.1) (3.4.1)\n",
            "Requirement already satisfied: numpy>=1.19.0 in /usr/local/lib/python3.10/dist-packages (from spacy<3.8.0,>=3.7.2->en-core-web-sm==3.7.1) (1.26.4)\n",
            "Requirement already satisfied: language-data>=1.2 in /usr/local/lib/python3.10/dist-packages (from langcodes<4.0.0,>=3.2.0->spacy<3.8.0,>=3.7.2->en-core-web-sm==3.7.1) (1.2.0)\n",
            "Requirement already satisfied: annotated-types>=0.6.0 in /usr/local/lib/python3.10/dist-packages (from pydantic!=1.8,!=1.8.1,<3.0.0,>=1.7.4->spacy<3.8.0,>=3.7.2->en-core-web-sm==3.7.1) (0.7.0)\n",
            "Requirement already satisfied: pydantic-core==2.23.4 in /usr/local/lib/python3.10/dist-packages (from pydantic!=1.8,!=1.8.1,<3.0.0,>=1.7.4->spacy<3.8.0,>=3.7.2->en-core-web-sm==3.7.1) (2.23.4)\n",
            "Requirement already satisfied: typing-extensions>=4.6.1 in /usr/local/lib/python3.10/dist-packages (from pydantic!=1.8,!=1.8.1,<3.0.0,>=1.7.4->spacy<3.8.0,>=3.7.2->en-core-web-sm==3.7.1) (4.12.2)\n",
            "Requirement already satisfied: charset-normalizer<4,>=2 in /usr/local/lib/python3.10/dist-packages (from requests<3.0.0,>=2.13.0->spacy<3.8.0,>=3.7.2->en-core-web-sm==3.7.1) (3.4.0)\n",
            "Requirement already satisfied: idna<4,>=2.5 in /usr/local/lib/python3.10/dist-packages (from requests<3.0.0,>=2.13.0->spacy<3.8.0,>=3.7.2->en-core-web-sm==3.7.1) (3.10)\n",
            "Requirement already satisfied: urllib3<3,>=1.21.1 in /usr/local/lib/python3.10/dist-packages (from requests<3.0.0,>=2.13.0->spacy<3.8.0,>=3.7.2->en-core-web-sm==3.7.1) (2.2.3)\n",
            "Requirement already satisfied: certifi>=2017.4.17 in /usr/local/lib/python3.10/dist-packages (from requests<3.0.0,>=2.13.0->spacy<3.8.0,>=3.7.2->en-core-web-sm==3.7.1) (2024.8.30)\n",
            "Requirement already satisfied: blis<0.8.0,>=0.7.8 in /usr/local/lib/python3.10/dist-packages (from thinc<8.3.0,>=8.2.2->spacy<3.8.0,>=3.7.2->en-core-web-sm==3.7.1) (0.7.11)\n",
            "Requirement already satisfied: confection<1.0.0,>=0.0.1 in /usr/local/lib/python3.10/dist-packages (from thinc<8.3.0,>=8.2.2->spacy<3.8.0,>=3.7.2->en-core-web-sm==3.7.1) (0.1.5)\n",
            "Requirement already satisfied: click>=8.0.0 in /usr/local/lib/python3.10/dist-packages (from typer<1.0.0,>=0.3.0->spacy<3.8.0,>=3.7.2->en-core-web-sm==3.7.1) (8.1.7)\n",
            "Requirement already satisfied: shellingham>=1.3.0 in /usr/local/lib/python3.10/dist-packages (from typer<1.0.0,>=0.3.0->spacy<3.8.0,>=3.7.2->en-core-web-sm==3.7.1) (1.5.4)\n",
            "Requirement already satisfied: rich>=10.11.0 in /usr/local/lib/python3.10/dist-packages (from typer<1.0.0,>=0.3.0->spacy<3.8.0,>=3.7.2->en-core-web-sm==3.7.1) (13.9.4)\n",
            "Requirement already satisfied: cloudpathlib<1.0.0,>=0.7.0 in /usr/local/lib/python3.10/dist-packages (from weasel<0.5.0,>=0.1.0->spacy<3.8.0,>=3.7.2->en-core-web-sm==3.7.1) (0.20.0)\n",
            "Requirement already satisfied: smart-open<8.0.0,>=5.2.1 in /usr/local/lib/python3.10/dist-packages (from weasel<0.5.0,>=0.1.0->spacy<3.8.0,>=3.7.2->en-core-web-sm==3.7.1) (7.0.5)\n",
            "Requirement already satisfied: MarkupSafe>=2.0 in /usr/local/lib/python3.10/dist-packages (from jinja2->spacy<3.8.0,>=3.7.2->en-core-web-sm==3.7.1) (3.0.2)\n",
            "Requirement already satisfied: marisa-trie>=0.7.7 in /usr/local/lib/python3.10/dist-packages (from language-data>=1.2->langcodes<4.0.0,>=3.2.0->spacy<3.8.0,>=3.7.2->en-core-web-sm==3.7.1) (1.2.1)\n",
            "Requirement already satisfied: markdown-it-py>=2.2.0 in /usr/local/lib/python3.10/dist-packages (from rich>=10.11.0->typer<1.0.0,>=0.3.0->spacy<3.8.0,>=3.7.2->en-core-web-sm==3.7.1) (3.0.0)\n",
            "Requirement already satisfied: pygments<3.0.0,>=2.13.0 in /usr/local/lib/python3.10/dist-packages (from rich>=10.11.0->typer<1.0.0,>=0.3.0->spacy<3.8.0,>=3.7.2->en-core-web-sm==3.7.1) (2.18.0)\n",
            "Requirement already satisfied: wrapt in /usr/local/lib/python3.10/dist-packages (from smart-open<8.0.0,>=5.2.1->weasel<0.5.0,>=0.1.0->spacy<3.8.0,>=3.7.2->en-core-web-sm==3.7.1) (1.16.0)\n",
            "Requirement already satisfied: mdurl~=0.1 in /usr/local/lib/python3.10/dist-packages (from markdown-it-py>=2.2.0->rich>=10.11.0->typer<1.0.0,>=0.3.0->spacy<3.8.0,>=3.7.2->en-core-web-sm==3.7.1) (0.1.2)\n",
            "\u001b[38;5;2m✔ Download and installation successful\u001b[0m\n",
            "You can now load the package via spacy.load('en_core_web_sm')\n",
            "\u001b[38;5;3m⚠ Restart to reload dependencies\u001b[0m\n",
            "If you are in a Jupyter or Colab notebook, you may need to restart Python in\n",
            "order to load all the package's dependencies. You can do this by selecting the\n",
            "'Restart kernel' or 'Restart runtime' option.\n"
          ]
        }
      ]
    }
  ],
  "metadata": {
    "celltoolbar": "Create Assignment",
    "kernelspec": {
      "display_name": "Python 3 (ipykernel)",
      "language": "python",
      "name": "python3"
    },
    "language_info": {
      "codemirror_mode": {
        "name": "ipython",
        "version": 3
      },
      "file_extension": ".py",
      "mimetype": "text/x-python",
      "name": "python",
      "nbconvert_exporter": "python",
      "pygments_lexer": "ipython3",
      "version": "3.9.13"
    },
    "colab": {
      "provenance": []
    }
  },
  "nbformat": 4,
  "nbformat_minor": 0
}